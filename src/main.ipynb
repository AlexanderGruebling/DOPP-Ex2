{
 "cells": [
  {
   "metadata": {},
   "cell_type": "markdown",
   "source": [
    "# Introduction\n",
    "## What we are trying to accomplish\n",
    "In general we are trying to provide answers to the following questions:\n",
    "- How is the adoption of renewable energy in Europe evolving?\n",
    "- How is the adoption of different types of renewable energy evolving?\n",
    "- Are there characteristics of countries that correlate with their level of adoption of renewable energy?\n",
    "\n",
    "### Main Questions\n",
    "As these questions are defined very broadly and can be answered in a variety of ways, we decided to formulate the following more discreet questions, focusing on the production and consumption of renewable energy in europe:\n",
    "- How has the adoption of renewable energy in Europe developed over time?\n",
    "- Which types of renewable energy have been predominantly adopted?\n",
    "\n",
    "### Sub Questions\n",
    "- How do economic factors like GDP influence the adoption of renewable energy?\n",
    "\n",
    "\n",
    "## Data Description\n",
    "We are using the dataset from [Kaggle](https://www.kaggle.com/datasets/programmerrdai/renewable-energy/data). The general description can be found at the original [ourworldindata.org](https://ourworldindata.org/grapher/installed-solar-pv-capacity#:~:text=IRENA%20%E2%80%93%20Renewable%20Capacity-,Statistics) description.\n",
    "**Absolute Values:** Absolute measurements are represented in megawatts (MW) rounded to the nearest one megawatt, with figures between zero and 0.5MW shown as a 0.\n",
    "**Shares:** Shares are represented as percentages\n",
    "\n",
    "## Load and check data\n",
    "Load all required packages and modules"
   ]
  },
  {
   "metadata": {
    "ExecuteTime": {
     "end_time": "2025-01-24T18:26:09.030302Z",
     "start_time": "2025-01-24T18:26:09.025169Z"
    }
   },
   "cell_type": "code",
   "source": [
    "import glob\n",
    "import os\n",
    "import pandas as pd\n",
    "import matplotlib.pyplot as plt\n",
    "import seaborn as sns"
   ],
   "outputs": [],
   "execution_count": 32
  },
  {
   "metadata": {},
   "cell_type": "markdown",
   "source": "The dataset contains a wide range of data from different countries and time ranges. In this exercise we chose to only consider **European** countries and the **years (1990-2020)** to answer our questions."
  },
  {
   "metadata": {
    "ExecuteTime": {
     "end_time": "2025-01-24T18:26:09.086148Z",
     "start_time": "2025-01-24T18:26:09.080845Z"
    }
   },
   "cell_type": "code",
   "source": [
    "# ISO codes for European countries\n",
    "country_codes = (\n",
    "    'AUT', 'BEL', 'BGR', 'HRV', 'CYP', 'CZE', 'DNK', 'EST', 'FIN', 'FRA',\n",
    "    'DEU', 'GRC', 'HUN', 'ISL', 'IRL', 'ITA', 'LVA', 'LTU', 'LUX', 'MLT',\n",
    "    'NLD', 'NOR', 'POL', 'PRT', 'ROU', 'SVK', 'SVN', 'ESP', 'SWE', 'CHE', 'GBR')\n",
    "time_window = (1990, 2020)"
   ],
   "outputs": [],
   "execution_count": 33
  },
  {
   "metadata": {},
   "cell_type": "markdown",
   "source": [
    "We clean the data by:\n",
    "- Handling all NaN by dropping them\n",
    "- Removing all non-European countries\n",
    "- Only consider our targeted time window (1990-2020)"
   ]
  },
  {
   "metadata": {
    "ExecuteTime": {
     "end_time": "2025-01-24T18:26:09.120818Z",
     "start_time": "2025-01-24T18:26:09.114603Z"
    }
   },
   "cell_type": "code",
   "source": [
    "def clean_df(df: pd.DataFrame) -> pd.DataFrame:\n",
    "    df = df.dropna()  # Remove NaN values, TODO: check if this is the best option\n",
    "\n",
    "    # Only Use European Countries & Europe accumulated data\n",
    "    df = df[(df['Code'].isin(country_codes)) | (df['Entity'] == 'Europe')]\n",
    "\n",
    "    # Only consider data from (1990-2020)\n",
    "    if 'Year' in df.columns:\n",
    "        df['Year'] = pd.to_numeric(df['Year'], errors='coerce')\n",
    "        df = df[(df['Year'] >= time_window[0]) & (df['Year'] <= time_window[1])]\n",
    "\n",
    "    df.reset_index(drop=True, inplace=True)\n",
    "\n",
    "    return df"
   ],
   "outputs": [],
   "execution_count": 34
  },
  {
   "metadata": {},
   "cell_type": "markdown",
   "source": "Put it all together and read and clean the dataframes:"
  },
  {
   "metadata": {
    "ExecuteTime": {
     "end_time": "2025-01-24T18:26:09.314258Z",
     "start_time": "2025-01-24T18:26:09.129125Z"
    }
   },
   "cell_type": "code",
   "source": [
    "def read_and_clean_csv(file) -> pd.DataFrame:\n",
    "    df = pd.read_csv(file)\n",
    "    df = clean_df(df)\n",
    "    return df\n",
    "\n",
    "folder_path = os.path.join('..', 'data')\n",
    "csv_files = glob.glob(os.path.join(folder_path, '*.csv'))\n",
    "\n",
    "dataframes = {os.path.basename(file).split('.')[0]: clean_df(read_and_clean_csv(file)) for file in csv_files}\n",
    "\n",
    "print(dataframes['share-electricity-solar'].head())\n",
    "print(dataframes['share-electricity-wind'].head())"
   ],
   "outputs": [
    {
     "name": "stdout",
     "output_type": "stream",
     "text": [
      "    Entity Code  Year  Solar (% electricity)\n",
      "0  Austria  AUT  1990                    0.0\n",
      "1  Austria  AUT  1991                    0.0\n",
      "2  Austria  AUT  1992                    0.0\n",
      "3  Austria  AUT  1993                    0.0\n",
      "4  Austria  AUT  1994                    0.0\n",
      "    Entity Code  Year  Wind (% electricity)\n",
      "0  Austria  AUT  1990                   0.0\n",
      "1  Austria  AUT  1991                   0.0\n",
      "2  Austria  AUT  1992                   0.0\n",
      "3  Austria  AUT  1993                   0.0\n",
      "4  Austria  AUT  1994                   0.0\n"
     ]
    }
   ],
   "execution_count": 35
  },
  {
   "metadata": {},
   "cell_type": "markdown",
   "source": [
    "### Merge semantically relevant dataframes\n",
    "Now we merge dataframes that contain semantically relevant data into one. These are:\n",
    "- `share_energy:` merged from `hydro-share-energy`,`solar-share-energy`,`wind-share-energy`,`renewable-share-energy`\n",
    "- `share_electricity:` merged from `share-electricity-hydro`,`share-electricity-solar`,`share-electricity-solar`,`share-electricity-wind`,`share-electricity-renewables`\n",
    "\n"
   ]
  },
  {
   "metadata": {
    "ExecuteTime": {
     "end_time": "2025-01-24T18:26:09.456391Z",
     "start_time": "2025-01-24T18:26:09.353509Z"
    }
   },
   "cell_type": "code",
   "source": [
    "share_energy_keys = [key for key in dataframes.keys() if 'share-energy' in key]\n",
    "share_electricity_keys = [key for key in dataframes.keys() if 'share-electricity' in key]\n",
    "\n",
    "share_energy = dataframes[share_energy_keys[0]]\n",
    "\n",
    "for key in share_energy_keys[1:]:\n",
    "    share_energy = share_energy.merge(\n",
    "        dataframes[key],\n",
    "        on=['Entity', 'Code', 'Year'],\n",
    "        how='outer',\n",
    "    )\n",
    "\n",
    "share_electricity = dataframes[share_electricity_keys[0]]\n",
    "\n",
    "for key in share_electricity_keys[1:]:\n",
    "    share_electricity = share_electricity.merge(\n",
    "        dataframes[key],\n",
    "        on=['Entity', 'Year'],\n",
    "        how='outer',\n",
    "    )"
   ],
   "outputs": [
    {
     "ename": "MergeError",
     "evalue": "Passing 'suffixes' which cause duplicate columns {'Code_x'} is not allowed.",
     "output_type": "error",
     "traceback": [
      "\u001B[1;31m---------------------------------------------------------------------------\u001B[0m",
      "\u001B[1;31mMergeError\u001B[0m                                Traceback (most recent call last)",
      "Cell \u001B[1;32mIn[36], line 17\u001B[0m\n\u001B[0;32m     14\u001B[0m share_electricity \u001B[38;5;241m=\u001B[39m dataframes[share_electricity_keys[\u001B[38;5;241m0\u001B[39m]]\n\u001B[0;32m     16\u001B[0m \u001B[38;5;28;01mfor\u001B[39;00m key \u001B[38;5;129;01min\u001B[39;00m share_electricity_keys[\u001B[38;5;241m1\u001B[39m:]:\n\u001B[1;32m---> 17\u001B[0m     share_electricity \u001B[38;5;241m=\u001B[39m \u001B[43mshare_electricity\u001B[49m\u001B[38;5;241;43m.\u001B[39;49m\u001B[43mmerge\u001B[49m\u001B[43m(\u001B[49m\n\u001B[0;32m     18\u001B[0m \u001B[43m        \u001B[49m\u001B[43mdataframes\u001B[49m\u001B[43m[\u001B[49m\u001B[43mkey\u001B[49m\u001B[43m]\u001B[49m\u001B[43m,\u001B[49m\n\u001B[0;32m     19\u001B[0m \u001B[43m        \u001B[49m\u001B[43mon\u001B[49m\u001B[38;5;241;43m=\u001B[39;49m\u001B[43m[\u001B[49m\u001B[38;5;124;43m'\u001B[39;49m\u001B[38;5;124;43mEntity\u001B[39;49m\u001B[38;5;124;43m'\u001B[39;49m\u001B[43m,\u001B[49m\u001B[43m \u001B[49m\u001B[38;5;124;43m'\u001B[39;49m\u001B[38;5;124;43mYear\u001B[39;49m\u001B[38;5;124;43m'\u001B[39;49m\u001B[43m]\u001B[49m\u001B[43m,\u001B[49m\n\u001B[0;32m     20\u001B[0m \u001B[43m        \u001B[49m\u001B[43mhow\u001B[49m\u001B[38;5;241;43m=\u001B[39;49m\u001B[38;5;124;43m'\u001B[39;49m\u001B[38;5;124;43mouter\u001B[39;49m\u001B[38;5;124;43m'\u001B[39;49m\u001B[43m,\u001B[49m\n\u001B[0;32m     21\u001B[0m \u001B[43m    \u001B[49m\u001B[43m)\u001B[49m\n",
      "File \u001B[1;32mD:\\Career\\Programming_Projects\\DOOP\\DOPP-Ex2\\.venv\\Lib\\site-packages\\pandas\\core\\frame.py:10832\u001B[0m, in \u001B[0;36mDataFrame.merge\u001B[1;34m(self, right, how, on, left_on, right_on, left_index, right_index, sort, suffixes, copy, indicator, validate)\u001B[0m\n\u001B[0;32m  10813\u001B[0m \u001B[38;5;129m@Substitution\u001B[39m(\u001B[38;5;124m\"\u001B[39m\u001B[38;5;124m\"\u001B[39m)\n\u001B[0;32m  10814\u001B[0m \u001B[38;5;129m@Appender\u001B[39m(_merge_doc, indents\u001B[38;5;241m=\u001B[39m\u001B[38;5;241m2\u001B[39m)\n\u001B[0;32m  10815\u001B[0m \u001B[38;5;28;01mdef\u001B[39;00m\u001B[38;5;250m \u001B[39m\u001B[38;5;21mmerge\u001B[39m(\n\u001B[1;32m   (...)\u001B[0m\n\u001B[0;32m  10828\u001B[0m     validate: MergeValidate \u001B[38;5;241m|\u001B[39m \u001B[38;5;28;01mNone\u001B[39;00m \u001B[38;5;241m=\u001B[39m \u001B[38;5;28;01mNone\u001B[39;00m,\n\u001B[0;32m  10829\u001B[0m ) \u001B[38;5;241m-\u001B[39m\u001B[38;5;241m>\u001B[39m DataFrame:\n\u001B[0;32m  10830\u001B[0m     \u001B[38;5;28;01mfrom\u001B[39;00m\u001B[38;5;250m \u001B[39m\u001B[38;5;21;01mpandas\u001B[39;00m\u001B[38;5;21;01m.\u001B[39;00m\u001B[38;5;21;01mcore\u001B[39;00m\u001B[38;5;21;01m.\u001B[39;00m\u001B[38;5;21;01mreshape\u001B[39;00m\u001B[38;5;21;01m.\u001B[39;00m\u001B[38;5;21;01mmerge\u001B[39;00m\u001B[38;5;250m \u001B[39m\u001B[38;5;28;01mimport\u001B[39;00m merge\n\u001B[1;32m> 10832\u001B[0m     \u001B[38;5;28;01mreturn\u001B[39;00m \u001B[43mmerge\u001B[49m\u001B[43m(\u001B[49m\n\u001B[0;32m  10833\u001B[0m \u001B[43m        \u001B[49m\u001B[38;5;28;43mself\u001B[39;49m\u001B[43m,\u001B[49m\n\u001B[0;32m  10834\u001B[0m \u001B[43m        \u001B[49m\u001B[43mright\u001B[49m\u001B[43m,\u001B[49m\n\u001B[0;32m  10835\u001B[0m \u001B[43m        \u001B[49m\u001B[43mhow\u001B[49m\u001B[38;5;241;43m=\u001B[39;49m\u001B[43mhow\u001B[49m\u001B[43m,\u001B[49m\n\u001B[0;32m  10836\u001B[0m \u001B[43m        \u001B[49m\u001B[43mon\u001B[49m\u001B[38;5;241;43m=\u001B[39;49m\u001B[43mon\u001B[49m\u001B[43m,\u001B[49m\n\u001B[0;32m  10837\u001B[0m \u001B[43m        \u001B[49m\u001B[43mleft_on\u001B[49m\u001B[38;5;241;43m=\u001B[39;49m\u001B[43mleft_on\u001B[49m\u001B[43m,\u001B[49m\n\u001B[0;32m  10838\u001B[0m \u001B[43m        \u001B[49m\u001B[43mright_on\u001B[49m\u001B[38;5;241;43m=\u001B[39;49m\u001B[43mright_on\u001B[49m\u001B[43m,\u001B[49m\n\u001B[0;32m  10839\u001B[0m \u001B[43m        \u001B[49m\u001B[43mleft_index\u001B[49m\u001B[38;5;241;43m=\u001B[39;49m\u001B[43mleft_index\u001B[49m\u001B[43m,\u001B[49m\n\u001B[0;32m  10840\u001B[0m \u001B[43m        \u001B[49m\u001B[43mright_index\u001B[49m\u001B[38;5;241;43m=\u001B[39;49m\u001B[43mright_index\u001B[49m\u001B[43m,\u001B[49m\n\u001B[0;32m  10841\u001B[0m \u001B[43m        \u001B[49m\u001B[43msort\u001B[49m\u001B[38;5;241;43m=\u001B[39;49m\u001B[43msort\u001B[49m\u001B[43m,\u001B[49m\n\u001B[0;32m  10842\u001B[0m \u001B[43m        \u001B[49m\u001B[43msuffixes\u001B[49m\u001B[38;5;241;43m=\u001B[39;49m\u001B[43msuffixes\u001B[49m\u001B[43m,\u001B[49m\n\u001B[0;32m  10843\u001B[0m \u001B[43m        \u001B[49m\u001B[43mcopy\u001B[49m\u001B[38;5;241;43m=\u001B[39;49m\u001B[43mcopy\u001B[49m\u001B[43m,\u001B[49m\n\u001B[0;32m  10844\u001B[0m \u001B[43m        \u001B[49m\u001B[43mindicator\u001B[49m\u001B[38;5;241;43m=\u001B[39;49m\u001B[43mindicator\u001B[49m\u001B[43m,\u001B[49m\n\u001B[0;32m  10845\u001B[0m \u001B[43m        \u001B[49m\u001B[43mvalidate\u001B[49m\u001B[38;5;241;43m=\u001B[39;49m\u001B[43mvalidate\u001B[49m\u001B[43m,\u001B[49m\n\u001B[0;32m  10846\u001B[0m \u001B[43m    \u001B[49m\u001B[43m)\u001B[49m\n",
      "File \u001B[1;32mD:\\Career\\Programming_Projects\\DOOP\\DOPP-Ex2\\.venv\\Lib\\site-packages\\pandas\\core\\reshape\\merge.py:184\u001B[0m, in \u001B[0;36mmerge\u001B[1;34m(left, right, how, on, left_on, right_on, left_index, right_index, sort, suffixes, copy, indicator, validate)\u001B[0m\n\u001B[0;32m    169\u001B[0m \u001B[38;5;28;01melse\u001B[39;00m:\n\u001B[0;32m    170\u001B[0m     op \u001B[38;5;241m=\u001B[39m _MergeOperation(\n\u001B[0;32m    171\u001B[0m         left_df,\n\u001B[0;32m    172\u001B[0m         right_df,\n\u001B[1;32m   (...)\u001B[0m\n\u001B[0;32m    182\u001B[0m         validate\u001B[38;5;241m=\u001B[39mvalidate,\n\u001B[0;32m    183\u001B[0m     )\n\u001B[1;32m--> 184\u001B[0m     \u001B[38;5;28;01mreturn\u001B[39;00m \u001B[43mop\u001B[49m\u001B[38;5;241;43m.\u001B[39;49m\u001B[43mget_result\u001B[49m\u001B[43m(\u001B[49m\u001B[43mcopy\u001B[49m\u001B[38;5;241;43m=\u001B[39;49m\u001B[43mcopy\u001B[49m\u001B[43m)\u001B[49m\n",
      "File \u001B[1;32mD:\\Career\\Programming_Projects\\DOOP\\DOPP-Ex2\\.venv\\Lib\\site-packages\\pandas\\core\\reshape\\merge.py:888\u001B[0m, in \u001B[0;36m_MergeOperation.get_result\u001B[1;34m(self, copy)\u001B[0m\n\u001B[0;32m    884\u001B[0m     \u001B[38;5;28mself\u001B[39m\u001B[38;5;241m.\u001B[39mleft, \u001B[38;5;28mself\u001B[39m\u001B[38;5;241m.\u001B[39mright \u001B[38;5;241m=\u001B[39m \u001B[38;5;28mself\u001B[39m\u001B[38;5;241m.\u001B[39m_indicator_pre_merge(\u001B[38;5;28mself\u001B[39m\u001B[38;5;241m.\u001B[39mleft, \u001B[38;5;28mself\u001B[39m\u001B[38;5;241m.\u001B[39mright)\n\u001B[0;32m    886\u001B[0m join_index, left_indexer, right_indexer \u001B[38;5;241m=\u001B[39m \u001B[38;5;28mself\u001B[39m\u001B[38;5;241m.\u001B[39m_get_join_info()\n\u001B[1;32m--> 888\u001B[0m result \u001B[38;5;241m=\u001B[39m \u001B[38;5;28;43mself\u001B[39;49m\u001B[38;5;241;43m.\u001B[39;49m\u001B[43m_reindex_and_concat\u001B[49m\u001B[43m(\u001B[49m\n\u001B[0;32m    889\u001B[0m \u001B[43m    \u001B[49m\u001B[43mjoin_index\u001B[49m\u001B[43m,\u001B[49m\u001B[43m \u001B[49m\u001B[43mleft_indexer\u001B[49m\u001B[43m,\u001B[49m\u001B[43m \u001B[49m\u001B[43mright_indexer\u001B[49m\u001B[43m,\u001B[49m\u001B[43m \u001B[49m\u001B[43mcopy\u001B[49m\u001B[38;5;241;43m=\u001B[39;49m\u001B[43mcopy\u001B[49m\n\u001B[0;32m    890\u001B[0m \u001B[43m\u001B[49m\u001B[43m)\u001B[49m\n\u001B[0;32m    891\u001B[0m result \u001B[38;5;241m=\u001B[39m result\u001B[38;5;241m.\u001B[39m__finalize__(\u001B[38;5;28mself\u001B[39m, method\u001B[38;5;241m=\u001B[39m\u001B[38;5;28mself\u001B[39m\u001B[38;5;241m.\u001B[39m_merge_type)\n\u001B[0;32m    893\u001B[0m \u001B[38;5;28;01mif\u001B[39;00m \u001B[38;5;28mself\u001B[39m\u001B[38;5;241m.\u001B[39mindicator:\n",
      "File \u001B[1;32mD:\\Career\\Programming_Projects\\DOOP\\DOPP-Ex2\\.venv\\Lib\\site-packages\\pandas\\core\\reshape\\merge.py:840\u001B[0m, in \u001B[0;36m_MergeOperation._reindex_and_concat\u001B[1;34m(self, join_index, left_indexer, right_indexer, copy)\u001B[0m\n\u001B[0;32m    837\u001B[0m left \u001B[38;5;241m=\u001B[39m \u001B[38;5;28mself\u001B[39m\u001B[38;5;241m.\u001B[39mleft[:]\n\u001B[0;32m    838\u001B[0m right \u001B[38;5;241m=\u001B[39m \u001B[38;5;28mself\u001B[39m\u001B[38;5;241m.\u001B[39mright[:]\n\u001B[1;32m--> 840\u001B[0m llabels, rlabels \u001B[38;5;241m=\u001B[39m \u001B[43m_items_overlap_with_suffix\u001B[49m\u001B[43m(\u001B[49m\n\u001B[0;32m    841\u001B[0m \u001B[43m    \u001B[49m\u001B[38;5;28;43mself\u001B[39;49m\u001B[38;5;241;43m.\u001B[39;49m\u001B[43mleft\u001B[49m\u001B[38;5;241;43m.\u001B[39;49m\u001B[43m_info_axis\u001B[49m\u001B[43m,\u001B[49m\u001B[43m \u001B[49m\u001B[38;5;28;43mself\u001B[39;49m\u001B[38;5;241;43m.\u001B[39;49m\u001B[43mright\u001B[49m\u001B[38;5;241;43m.\u001B[39;49m\u001B[43m_info_axis\u001B[49m\u001B[43m,\u001B[49m\u001B[43m \u001B[49m\u001B[38;5;28;43mself\u001B[39;49m\u001B[38;5;241;43m.\u001B[39;49m\u001B[43msuffixes\u001B[49m\n\u001B[0;32m    842\u001B[0m \u001B[43m\u001B[49m\u001B[43m)\u001B[49m\n\u001B[0;32m    844\u001B[0m \u001B[38;5;28;01mif\u001B[39;00m left_indexer \u001B[38;5;129;01mis\u001B[39;00m \u001B[38;5;129;01mnot\u001B[39;00m \u001B[38;5;28;01mNone\u001B[39;00m \u001B[38;5;129;01mand\u001B[39;00m \u001B[38;5;129;01mnot\u001B[39;00m is_range_indexer(left_indexer, \u001B[38;5;28mlen\u001B[39m(left)):\n\u001B[0;32m    845\u001B[0m     \u001B[38;5;66;03m# Pinning the index here (and in the right code just below) is not\u001B[39;00m\n\u001B[0;32m    846\u001B[0m     \u001B[38;5;66;03m#  necessary, but makes the `.take` more performant if we have e.g.\u001B[39;00m\n\u001B[0;32m    847\u001B[0m     \u001B[38;5;66;03m#  a MultiIndex for left.index.\u001B[39;00m\n\u001B[0;32m    848\u001B[0m     lmgr \u001B[38;5;241m=\u001B[39m left\u001B[38;5;241m.\u001B[39m_mgr\u001B[38;5;241m.\u001B[39mreindex_indexer(\n\u001B[0;32m    849\u001B[0m         join_index,\n\u001B[0;32m    850\u001B[0m         left_indexer,\n\u001B[1;32m   (...)\u001B[0m\n\u001B[0;32m    855\u001B[0m         use_na_proxy\u001B[38;5;241m=\u001B[39m\u001B[38;5;28;01mTrue\u001B[39;00m,\n\u001B[0;32m    856\u001B[0m     )\n",
      "File \u001B[1;32mD:\\Career\\Programming_Projects\\DOOP\\DOPP-Ex2\\.venv\\Lib\\site-packages\\pandas\\core\\reshape\\merge.py:2757\u001B[0m, in \u001B[0;36m_items_overlap_with_suffix\u001B[1;34m(left, right, suffixes)\u001B[0m\n\u001B[0;32m   2755\u001B[0m     dups\u001B[38;5;241m.\u001B[39mextend(rlabels[(rlabels\u001B[38;5;241m.\u001B[39mduplicated()) \u001B[38;5;241m&\u001B[39m (\u001B[38;5;241m~\u001B[39mright\u001B[38;5;241m.\u001B[39mduplicated())]\u001B[38;5;241m.\u001B[39mtolist())\n\u001B[0;32m   2756\u001B[0m \u001B[38;5;28;01mif\u001B[39;00m dups:\n\u001B[1;32m-> 2757\u001B[0m     \u001B[38;5;28;01mraise\u001B[39;00m MergeError(\n\u001B[0;32m   2758\u001B[0m         \u001B[38;5;124mf\u001B[39m\u001B[38;5;124m\"\u001B[39m\u001B[38;5;124mPassing \u001B[39m\u001B[38;5;124m'\u001B[39m\u001B[38;5;124msuffixes\u001B[39m\u001B[38;5;124m'\u001B[39m\u001B[38;5;124m which cause duplicate columns \u001B[39m\u001B[38;5;132;01m{\u001B[39;00m\u001B[38;5;28mset\u001B[39m(dups)\u001B[38;5;132;01m}\u001B[39;00m\u001B[38;5;124m is \u001B[39m\u001B[38;5;124m\"\u001B[39m\n\u001B[0;32m   2759\u001B[0m         \u001B[38;5;124mf\u001B[39m\u001B[38;5;124m\"\u001B[39m\u001B[38;5;124mnot allowed.\u001B[39m\u001B[38;5;124m\"\u001B[39m,\n\u001B[0;32m   2760\u001B[0m     )\n\u001B[0;32m   2762\u001B[0m \u001B[38;5;28;01mreturn\u001B[39;00m llabels, rlabels\n",
      "\u001B[1;31mMergeError\u001B[0m: Passing 'suffixes' which cause duplicate columns {'Code_x'} is not allowed."
     ]
    }
   ],
   "execution_count": 36
  },
  {
   "metadata": {},
   "cell_type": "markdown",
   "source": "These newly merged frames can now be converted to a wide multi-index dataformat."
  },
  {
   "metadata": {},
   "cell_type": "code",
   "outputs": [],
   "execution_count": null,
   "source": "# TODO multi-index data"
  },
  {
   "metadata": {},
   "cell_type": "markdown",
   "source": "### Check the Data"
  },
  {
   "metadata": {},
   "cell_type": "code",
   "outputs": [],
   "execution_count": null,
   "source": [
    "# Display merged data\n",
    "print(\"Merged 'share_energy' DataFrame:\")\n",
    "print(share_energy.head())\n",
    "\n",
    "print(\"\\nMerged 'share_electricity' DataFrame:\")\n",
    "print(share_electricity.head())"
   ]
  },
  {
   "metadata": {
    "ExecuteTime": {
     "end_time": "2025-01-24T18:26:09.456343800Z",
     "start_time": "2025-01-24T17:33:59.880106Z"
    }
   },
   "cell_type": "code",
   "source": [
    "# Optionally, print the cleaned data for verification\n",
    "for key, df in dataframes.items():\n",
    "    print(f'{key}:')\n",
    "    print(df.head(), '\\n')"
   ],
   "outputs": [
    {
     "name": "stdout",
     "output_type": "stream",
     "text": [
      "biofuel-production.csv:\n",
      "      Entity Code  Year  Biofuels Production - TWh - Total\n",
      "124  Austria  AUT  1990                           0.073269\n",
      "125  Austria  AUT  1991                           0.080247\n",
      "126  Austria  AUT  1992                           0.089551\n",
      "127  Austria  AUT  1993                           0.101181\n",
      "128  Austria  AUT  1994                           0.067454 \n",
      "\n",
      "cumulative-installed-wind-energy-capacity-gigawatts.csv:\n",
      "      Entity Code  Year  Wind Capacity\n",
      "96   Austria  AUT  1997          0.020\n",
      "97   Austria  AUT  1998          0.030\n",
      "98   Austria  AUT  1999          0.042\n",
      "99   Austria  AUT  2000          0.050\n",
      "100  Austria  AUT  2001          0.067 \n",
      "\n",
      "hydro-share-energy.csv:\n",
      "      Entity Code  Year  Hydro (% sub energy)\n",
      "305  Austria  AUT  1990                26.600\n",
      "306  Austria  AUT  1991                25.290\n",
      "307  Austria  AUT  1992                28.540\n",
      "308  Austria  AUT  1993                29.555\n",
      "309  Austria  AUT  1994                28.912 \n",
      "\n",
      "hydropower-consumption.csv:\n",
      "      Entity Code  Year  Electricity from hydro (TWh)\n",
      "486  Austria  AUT  1990                         31.51\n",
      "487  Austria  AUT  1991                         31.44\n",
      "488  Austria  AUT  1992                         34.85\n",
      "489  Austria  AUT  1993                         36.71\n",
      "490  Austria  AUT  1994                         35.71 \n",
      "\n",
      "installed-geothermal-capacity.csv:\n",
      "      Entity Code  Year  Geothermal Capacity\n",
      "136  Croatia  HRV  1990                  0.0\n",
      "137  Croatia  HRV  1995                  0.0\n",
      "138  Croatia  HRV  2000                  0.0\n",
      "139  Croatia  HRV  2001                  0.0\n",
      "140  Croatia  HRV  2002                  0.0 \n",
      "\n",
      "installed-solar-PV-capacity.csv:\n",
      "      Entity Code  Year  Solar Capacity\n",
      "125  Austria  AUT  1996          0.0017\n",
      "126  Austria  AUT  1997          0.0022\n",
      "127  Austria  AUT  1998          0.0029\n",
      "128  Austria  AUT  1999          0.0037\n",
      "129  Austria  AUT  2000          0.0050 \n",
      "\n",
      "modern-renewable-energy-consumption.csv:\n",
      "      Entity Code  Year  Wind Generation - TWh  Solar Generation - TWh  \\\n",
      "305  Austria  AUT  1990                    0.0                   0.000   \n",
      "306  Austria  AUT  1991                    0.0                   0.000   \n",
      "307  Austria  AUT  1992                    0.0                   0.000   \n",
      "308  Austria  AUT  1993                    0.0                   0.001   \n",
      "309  Austria  AUT  1994                    0.0                   0.001   \n",
      "\n",
      "     Geo Biomass Other - TWh  Hydro Generation - TWh  \n",
      "305                 1.142485               31.509000  \n",
      "306                 1.225832               31.443400  \n",
      "307                 1.329164               34.848400  \n",
      "308                 1.361111               36.705556  \n",
      "309                 1.210555               35.707500   \n",
      "\n",
      "modern-renewable-prod.csv:\n",
      "      Entity Code  Year  Electricity from wind (TWh)  \\\n",
      "486  Austria  AUT  1990                          0.0   \n",
      "487  Austria  AUT  1991                          0.0   \n",
      "488  Austria  AUT  1992                          0.0   \n",
      "489  Austria  AUT  1993                          0.0   \n",
      "490  Austria  AUT  1994                          0.0   \n",
      "\n",
      "     Electricity from hydro (TWh)  Electricity from solar (TWh)  \\\n",
      "486                         31.51                           0.0   \n",
      "487                         31.44                           0.0   \n",
      "488                         34.85                           0.0   \n",
      "489                         36.71                           0.0   \n",
      "490                         35.71                           0.0   \n",
      "\n",
      "     Electricity from other renewables including bioenergy (TWh)  \n",
      "486                                               1.13            \n",
      "487                                               1.21            \n",
      "488                                               1.31            \n",
      "489                                               1.34            \n",
      "490                                               1.19             \n",
      "\n",
      "renewable-share-energy.csv:\n",
      "      Entity Code  Year  Renewables (% sub energy)\n",
      "305  Austria  AUT  1990                     27.586\n",
      "306  Austria  AUT  1991                     26.299\n",
      "307  Austria  AUT  1992                     29.655\n",
      "308  Austria  AUT  1993                     30.682\n",
      "309  Austria  AUT  1994                     29.914 \n",
      "\n",
      "share-electricity-hydro.csv:\n",
      "      Entity Code  Year  Hydro (% electricity)\n",
      "366  Austria  AUT  1990                 63.915\n",
      "367  Austria  AUT  1991                 62.654\n",
      "368  Austria  AUT  1992                 69.770\n",
      "369  Austria  AUT  1993                 71.462\n",
      "370  Austria  AUT  1994                 68.528 \n",
      "\n",
      "share-electricity-renewables.csv:\n",
      "      Entity Code  Year  Renewables (% electricity)\n",
      "366  Austria  AUT  1990                      66.207\n",
      "367  Austria  AUT  1991                      65.066\n",
      "368  Austria  AUT  1992                      72.392\n",
      "369  Austria  AUT  1993                      74.070\n",
      "370  Austria  AUT  1994                      70.812 \n",
      "\n",
      "share-electricity-solar.csv:\n",
      "      Entity Code  Year  Solar (% electricity)\n",
      "366  Austria  AUT  1990                    0.0\n",
      "367  Austria  AUT  1991                    0.0\n",
      "368  Austria  AUT  1992                    0.0\n",
      "369  Austria  AUT  1993                    0.0\n",
      "370  Austria  AUT  1994                    0.0 \n",
      "\n",
      "share-electricity-wind.csv:\n",
      "      Entity Code  Year  Wind (% electricity)\n",
      "366  Austria  AUT  1990                   0.0\n",
      "367  Austria  AUT  1991                   0.0\n",
      "368  Austria  AUT  1992                   0.0\n",
      "369  Austria  AUT  1993                   0.0\n",
      "370  Austria  AUT  1994                   0.0 \n",
      "\n",
      "solar-energy-consumption.csv:\n",
      "      Entity Code  Year  Electricity from solar (TWh)\n",
      "486  Austria  AUT  1990                           0.0\n",
      "487  Austria  AUT  1991                           0.0\n",
      "488  Austria  AUT  1992                           0.0\n",
      "489  Austria  AUT  1993                           0.0\n",
      "490  Austria  AUT  1994                           0.0 \n",
      "\n",
      "solar-share-energy.csv:\n",
      "      Entity Code  Year  Solar (% sub energy)\n",
      "305  Austria  AUT  1990                 0.000\n",
      "306  Austria  AUT  1991                 0.000\n",
      "307  Austria  AUT  1992                 0.000\n",
      "308  Austria  AUT  1993                 0.001\n",
      "309  Austria  AUT  1994                 0.001 \n",
      "\n",
      "wind-generation.csv:\n",
      "      Entity Code  Year  Electricity from wind (TWh)\n",
      "486  Austria  AUT  1990                          0.0\n",
      "487  Austria  AUT  1991                          0.0\n",
      "488  Austria  AUT  1992                          0.0\n",
      "489  Austria  AUT  1993                          0.0\n",
      "490  Austria  AUT  1994                          0.0 \n",
      "\n",
      "wind-share-energy.csv:\n",
      "      Entity Code  Year  Wind (% sub energy)\n",
      "305  Austria  AUT  1990                  0.0\n",
      "306  Austria  AUT  1991                  0.0\n",
      "307  Austria  AUT  1992                  0.0\n",
      "308  Austria  AUT  1993                  0.0\n",
      "309  Austria  AUT  1994                  0.0 \n",
      "\n"
     ]
    }
   ],
   "execution_count": 105
  }
 ],
 "metadata": {
  "kernelspec": {
   "display_name": "Python 3",
   "language": "python",
   "name": "python3"
  },
  "language_info": {
   "codemirror_mode": {
    "name": "ipython",
    "version": 3
   },
   "file_extension": ".py",
   "mimetype": "text/x-python",
   "name": "python",
   "nbconvert_exporter": "python",
   "pygments_lexer": "ipython3",
   "version": "3.9.6"
  }
 },
 "nbformat": 4,
 "nbformat_minor": 2
}
