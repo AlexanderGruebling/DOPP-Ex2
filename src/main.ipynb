{
 "cells": [
  {
   "metadata": {},
   "cell_type": "markdown",
   "source": [
    "# Introduction\n",
    "## What we are trying to accomplish\n",
    "In general we are trying to provide answers to the following questions:\n",
    "- How is the adoption of renewable energy in Europe evolving?\n",
    "- How is the adoption of different types of renewable energy evolving?\n",
    "- Are there characteristics of countries that correlate with their level of adoption of renewable energy?\n",
    "\n",
    "### Main Questions\n",
    "As these questions are defined very broadly and can be answered in a variety of ways, we decided to formulate the following more discreet questions, focusing on the production and consumption of renewable energy in europe:\n",
    "- How has the adoption of renewable energy in Europe developed over time?\n",
    "- Which types of renewable energy have been predominantly adopted?\n",
    "\n",
    "### Sub Questions\n",
    "- How do economic factors like GDP influence the adoption of renewable energy?\n",
    "\n",
    "\n",
    "## Data Description\n",
    "We are using the dataset from [Kaggle](https://www.kaggle.com/datasets/programmerrdai/renewable-energy/data). The general description can be found at the original [ourworldindata.org](https://ourworldindata.org/grapher/installed-solar-pv-capacity#:~:text=IRENA%20%E2%80%93%20Renewable%20Capacity-,Statistics) description.\n",
    "**Absolute Values:** Absolute measurements are represented in megawatts (MW) rounded to the nearest one megawatt, with figures between zero and 0.5MW shown as a 0.\n",
    "**Shares:** Shares are represented as percentages\n",
    "\n",
    "## Load and check data\n",
    "Load all required packages and modules"
   ]
  },
  {
   "metadata": {
    "ExecuteTime": {
     "end_time": "2025-01-24T18:27:47.570990Z",
     "start_time": "2025-01-24T18:27:47.565499Z"
    }
   },
   "cell_type": "code",
   "source": [
    "import glob\n",
    "import os\n",
    "import pandas as pd\n",
    "import matplotlib.pyplot as plt\n",
    "import seaborn as sns"
   ],
   "outputs": [],
   "execution_count": 37
  },
  {
   "metadata": {},
   "cell_type": "markdown",
   "source": "The dataset contains a wide range of data from different countries and time ranges. In this exercise we chose to only consider **European** countries and the **years (1990-2020)** to answer our questions."
  },
  {
   "metadata": {
    "ExecuteTime": {
     "end_time": "2025-01-24T18:27:47.612325Z",
     "start_time": "2025-01-24T18:27:47.604792Z"
    }
   },
   "cell_type": "code",
   "source": [
    "# ISO codes for European countries\n",
    "country_codes = (\n",
    "    'AUT', 'BEL', 'BGR', 'HRV', 'CYP', 'CZE', 'DNK', 'EST', 'FIN', 'FRA',\n",
    "    'DEU', 'GRC', 'HUN', 'ISL', 'IRL', 'ITA', 'LVA', 'LTU', 'LUX', 'MLT',\n",
    "    'NLD', 'NOR', 'POL', 'PRT', 'ROU', 'SVK', 'SVN', 'ESP', 'SWE', 'CHE', 'GBR')\n",
    "time_window = (1990, 2020)"
   ],
   "outputs": [],
   "execution_count": 38
  },
  {
   "metadata": {},
   "cell_type": "markdown",
   "source": [
    "We clean the data by:\n",
    "- Handling all NaN by dropping them\n",
    "- Removing all non-European countries\n",
    "- Only consider our targeted time window (1990-2020)"
   ]
  },
  {
   "metadata": {
    "ExecuteTime": {
     "end_time": "2025-01-24T18:27:47.630619Z",
     "start_time": "2025-01-24T18:27:47.623403Z"
    }
   },
   "cell_type": "code",
   "source": [
    "def clean_df(df: pd.DataFrame) -> pd.DataFrame:\n",
    "    df = df.dropna()  # Remove NaN values, TODO: check if this is the best option\n",
    "\n",
    "    # Only Use European Countries & Europe accumulated data\n",
    "    df = df[(df['Code'].isin(country_codes)) | (df['Entity'] == 'Europe')]\n",
    "\n",
    "    # Only consider data from (1990-2020)\n",
    "    if 'Year' in df.columns:\n",
    "        df['Year'] = pd.to_numeric(df['Year'], errors='coerce')\n",
    "        df = df[(df['Year'] >= time_window[0]) & (df['Year'] <= time_window[1])]\n",
    "\n",
    "    df.reset_index(drop=True, inplace=True)\n",
    "\n",
    "    return df"
   ],
   "outputs": [],
   "execution_count": 39
  },
  {
   "metadata": {},
   "cell_type": "markdown",
   "source": "Put it all together and read and clean the dataframes:"
  },
  {
   "metadata": {
    "ExecuteTime": {
     "end_time": "2025-01-24T18:27:47.854234Z",
     "start_time": "2025-01-24T18:27:47.662721Z"
    }
   },
   "cell_type": "code",
   "source": [
    "def read_and_clean_csv(file) -> pd.DataFrame:\n",
    "    df = pd.read_csv(file)\n",
    "    df = clean_df(df)\n",
    "    return df\n",
    "\n",
    "folder_path = os.path.join('..', 'data')\n",
    "csv_files = glob.glob(os.path.join(folder_path, '*.csv'))\n",
    "\n",
    "dataframes = {os.path.basename(file).split('.')[0]: clean_df(read_and_clean_csv(file)) for file in csv_files}\n",
    "\n",
    "print(dataframes['share-electricity-solar'].head())\n",
    "print(dataframes['share-electricity-wind'].head())"
   ],
   "outputs": [
    {
     "name": "stdout",
     "output_type": "stream",
     "text": [
      "    Entity Code  Year  Solar (% electricity)\n",
      "0  Austria  AUT  1990                    0.0\n",
      "1  Austria  AUT  1991                    0.0\n",
      "2  Austria  AUT  1992                    0.0\n",
      "3  Austria  AUT  1993                    0.0\n",
      "4  Austria  AUT  1994                    0.0\n",
      "    Entity Code  Year  Wind (% electricity)\n",
      "0  Austria  AUT  1990                   0.0\n",
      "1  Austria  AUT  1991                   0.0\n",
      "2  Austria  AUT  1992                   0.0\n",
      "3  Austria  AUT  1993                   0.0\n",
      "4  Austria  AUT  1994                   0.0\n"
     ]
    }
   ],
   "execution_count": 40
  },
  {
   "metadata": {},
   "cell_type": "markdown",
   "source": [
    "### Merge semantically relevant dataframes\n",
    "Now we merge dataframes that contain semantically relevant data into one. These are:\n",
    "- `share_energy:` merged from `hydro-share-energy`,`solar-share-energy`,`wind-share-energy`,`renewable-share-energy`\n",
    "- `share_electricity:` merged from `share-electricity-hydro`,`share-electricity-solar`,`share-electricity-solar`,`share-electricity-wind`,`share-electricity-renewables`\n",
    "\n"
   ]
  },
  {
   "metadata": {
    "ExecuteTime": {
     "end_time": "2025-01-24T18:27:47.938070Z",
     "start_time": "2025-01-24T18:27:47.897937Z"
    }
   },
   "cell_type": "code",
   "source": [
    "share_energy_keys = [key for key in dataframes.keys() if 'share-energy' in key]\n",
    "share_electricity_keys = [key for key in dataframes.keys() if 'share-electricity' in key]\n",
    "\n",
    "share_energy = dataframes[share_energy_keys[0]]\n",
    "\n",
    "for key in share_energy_keys[1:]:\n",
    "    share_energy = share_energy.merge(\n",
    "        dataframes[key],\n",
    "        on=['Entity', 'Code', 'Year'],\n",
    "        how='outer',\n",
    "    )\n",
    "\n",
    "share_electricity = dataframes[share_electricity_keys[0]]\n",
    "\n",
    "for key in share_electricity_keys[1:]:\n",
    "    share_electricity = share_electricity.merge(\n",
    "        dataframes[key],\n",
    "        on=['Entity', 'Code', 'Year'],\n",
    "        how='outer',\n",
    "    )"
   ],
   "outputs": [],
   "execution_count": 41
  },
  {
   "metadata": {},
   "cell_type": "markdown",
   "source": "These newly merged frames can now be converted to a wide multi-index dataformat."
  },
  {
   "metadata": {
    "ExecuteTime": {
     "end_time": "2025-01-24T18:27:47.996596Z",
     "start_time": "2025-01-24T18:27:47.987602Z"
    }
   },
   "cell_type": "code",
   "source": "# TODO multi-index data",
   "outputs": [],
   "execution_count": 42
  },
  {
   "metadata": {},
   "cell_type": "markdown",
   "source": "### Check the Data"
  },
  {
   "metadata": {
    "ExecuteTime": {
     "end_time": "2025-01-24T18:27:48.057182Z",
     "start_time": "2025-01-24T18:27:48.040041Z"
    }
   },
   "cell_type": "code",
   "source": [
    "# Display merged data\n",
    "print(\"Merged 'share_energy' DataFrame:\")\n",
    "print(share_energy.head())\n",
    "\n",
    "print(\"\\nMerged 'share_electricity' DataFrame:\")\n",
    "print(share_electricity.head())"
   ],
   "outputs": [
    {
     "name": "stdout",
     "output_type": "stream",
     "text": [
      "Merged 'share_energy' DataFrame:\n",
      "    Entity Code  Year  Hydro (% sub energy)  Renewables (% sub energy)  \\\n",
      "0  Austria  AUT  1990                26.600                     27.586   \n",
      "1  Austria  AUT  1991                25.290                     26.299   \n",
      "2  Austria  AUT  1992                28.540                     29.655   \n",
      "3  Austria  AUT  1993                29.555                     30.682   \n",
      "4  Austria  AUT  1994                28.912                     29.914   \n",
      "\n",
      "   Solar (% sub energy)  Wind (% sub energy)  \n",
      "0                 0.000                  0.0  \n",
      "1                 0.000                  0.0  \n",
      "2                 0.000                  0.0  \n",
      "3                 0.001                  0.0  \n",
      "4                 0.001                  0.0  \n",
      "\n",
      "Merged 'share_electricity' DataFrame:\n",
      "    Entity Code  Year  Hydro (% electricity)  Renewables (% electricity)  \\\n",
      "0  Austria  AUT  1990                 63.915                      66.207   \n",
      "1  Austria  AUT  1991                 62.654                      65.066   \n",
      "2  Austria  AUT  1992                 69.770                      72.392   \n",
      "3  Austria  AUT  1993                 71.462                      74.070   \n",
      "4  Austria  AUT  1994                 68.528                      70.812   \n",
      "\n",
      "   Solar (% electricity)  Wind (% electricity)  \n",
      "0                    0.0                   0.0  \n",
      "1                    0.0                   0.0  \n",
      "2                    0.0                   0.0  \n",
      "3                    0.0                   0.0  \n",
      "4                    0.0                   0.0  \n"
     ]
    }
   ],
   "execution_count": 43
  },
  {
   "metadata": {
    "ExecuteTime": {
     "end_time": "2025-01-24T18:27:48.149457Z",
     "start_time": "2025-01-24T18:27:48.099789Z"
    }
   },
   "cell_type": "code",
   "source": [
    "# Optionally, print the cleaned data for verification\n",
    "for key, df in dataframes.items():\n",
    "    print(f'{key}:')\n",
    "    print(df.head(), '\\n')"
   ],
   "outputs": [
    {
     "name": "stdout",
     "output_type": "stream",
     "text": [
      "biofuel-production:\n",
      "    Entity Code  Year  Biofuels Production - TWh - Total\n",
      "0  Austria  AUT  1990                           0.073269\n",
      "1  Austria  AUT  1991                           0.080247\n",
      "2  Austria  AUT  1992                           0.089551\n",
      "3  Austria  AUT  1993                           0.101181\n",
      "4  Austria  AUT  1994                           0.067454 \n",
      "\n",
      "cumulative-installed-wind-energy-capacity-gigawatts:\n",
      "    Entity Code  Year  Wind Capacity\n",
      "0  Austria  AUT  1997          0.020\n",
      "1  Austria  AUT  1998          0.030\n",
      "2  Austria  AUT  1999          0.042\n",
      "3  Austria  AUT  2000          0.050\n",
      "4  Austria  AUT  2001          0.067 \n",
      "\n",
      "hydro-share-energy:\n",
      "    Entity Code  Year  Hydro (% sub energy)\n",
      "0  Austria  AUT  1990                26.600\n",
      "1  Austria  AUT  1991                25.290\n",
      "2  Austria  AUT  1992                28.540\n",
      "3  Austria  AUT  1993                29.555\n",
      "4  Austria  AUT  1994                28.912 \n",
      "\n",
      "hydropower-consumption:\n",
      "    Entity Code  Year  Electricity from hydro (TWh)\n",
      "0  Austria  AUT  1990                         31.51\n",
      "1  Austria  AUT  1991                         31.44\n",
      "2  Austria  AUT  1992                         34.85\n",
      "3  Austria  AUT  1993                         36.71\n",
      "4  Austria  AUT  1994                         35.71 \n",
      "\n",
      "installed-geothermal-capacity:\n",
      "    Entity Code  Year  Geothermal Capacity\n",
      "0  Croatia  HRV  1990                  0.0\n",
      "1  Croatia  HRV  1995                  0.0\n",
      "2  Croatia  HRV  2000                  0.0\n",
      "3  Croatia  HRV  2001                  0.0\n",
      "4  Croatia  HRV  2002                  0.0 \n",
      "\n",
      "installed-solar-PV-capacity:\n",
      "    Entity Code  Year  Solar Capacity\n",
      "0  Austria  AUT  1996          0.0017\n",
      "1  Austria  AUT  1997          0.0022\n",
      "2  Austria  AUT  1998          0.0029\n",
      "3  Austria  AUT  1999          0.0037\n",
      "4  Austria  AUT  2000          0.0050 \n",
      "\n",
      "modern-renewable-energy-consumption:\n",
      "    Entity Code  Year  Wind Generation - TWh  Solar Generation - TWh  \\\n",
      "0  Austria  AUT  1990                    0.0                   0.000   \n",
      "1  Austria  AUT  1991                    0.0                   0.000   \n",
      "2  Austria  AUT  1992                    0.0                   0.000   \n",
      "3  Austria  AUT  1993                    0.0                   0.001   \n",
      "4  Austria  AUT  1994                    0.0                   0.001   \n",
      "\n",
      "   Geo Biomass Other - TWh  Hydro Generation - TWh  \n",
      "0                 1.142485               31.509000  \n",
      "1                 1.225832               31.443400  \n",
      "2                 1.329164               34.848400  \n",
      "3                 1.361111               36.705556  \n",
      "4                 1.210555               35.707500   \n",
      "\n",
      "modern-renewable-prod:\n",
      "    Entity Code  Year  Electricity from wind (TWh)  \\\n",
      "0  Austria  AUT  1990                          0.0   \n",
      "1  Austria  AUT  1991                          0.0   \n",
      "2  Austria  AUT  1992                          0.0   \n",
      "3  Austria  AUT  1993                          0.0   \n",
      "4  Austria  AUT  1994                          0.0   \n",
      "\n",
      "   Electricity from hydro (TWh)  Electricity from solar (TWh)  \\\n",
      "0                         31.51                           0.0   \n",
      "1                         31.44                           0.0   \n",
      "2                         34.85                           0.0   \n",
      "3                         36.71                           0.0   \n",
      "4                         35.71                           0.0   \n",
      "\n",
      "   Electricity from other renewables including bioenergy (TWh)  \n",
      "0                                               1.13            \n",
      "1                                               1.21            \n",
      "2                                               1.31            \n",
      "3                                               1.34            \n",
      "4                                               1.19             \n",
      "\n",
      "renewable-share-energy:\n",
      "    Entity Code  Year  Renewables (% sub energy)\n",
      "0  Austria  AUT  1990                     27.586\n",
      "1  Austria  AUT  1991                     26.299\n",
      "2  Austria  AUT  1992                     29.655\n",
      "3  Austria  AUT  1993                     30.682\n",
      "4  Austria  AUT  1994                     29.914 \n",
      "\n",
      "share-electricity-hydro:\n",
      "    Entity Code  Year  Hydro (% electricity)\n",
      "0  Austria  AUT  1990                 63.915\n",
      "1  Austria  AUT  1991                 62.654\n",
      "2  Austria  AUT  1992                 69.770\n",
      "3  Austria  AUT  1993                 71.462\n",
      "4  Austria  AUT  1994                 68.528 \n",
      "\n",
      "share-electricity-renewables:\n",
      "    Entity Code  Year  Renewables (% electricity)\n",
      "0  Austria  AUT  1990                      66.207\n",
      "1  Austria  AUT  1991                      65.066\n",
      "2  Austria  AUT  1992                      72.392\n",
      "3  Austria  AUT  1993                      74.070\n",
      "4  Austria  AUT  1994                      70.812 \n",
      "\n",
      "share-electricity-solar:\n",
      "    Entity Code  Year  Solar (% electricity)\n",
      "0  Austria  AUT  1990                    0.0\n",
      "1  Austria  AUT  1991                    0.0\n",
      "2  Austria  AUT  1992                    0.0\n",
      "3  Austria  AUT  1993                    0.0\n",
      "4  Austria  AUT  1994                    0.0 \n",
      "\n",
      "share-electricity-wind:\n",
      "    Entity Code  Year  Wind (% electricity)\n",
      "0  Austria  AUT  1990                   0.0\n",
      "1  Austria  AUT  1991                   0.0\n",
      "2  Austria  AUT  1992                   0.0\n",
      "3  Austria  AUT  1993                   0.0\n",
      "4  Austria  AUT  1994                   0.0 \n",
      "\n",
      "solar-energy-consumption:\n",
      "    Entity Code  Year  Electricity from solar (TWh)\n",
      "0  Austria  AUT  1990                           0.0\n",
      "1  Austria  AUT  1991                           0.0\n",
      "2  Austria  AUT  1992                           0.0\n",
      "3  Austria  AUT  1993                           0.0\n",
      "4  Austria  AUT  1994                           0.0 \n",
      "\n",
      "solar-share-energy:\n",
      "    Entity Code  Year  Solar (% sub energy)\n",
      "0  Austria  AUT  1990                 0.000\n",
      "1  Austria  AUT  1991                 0.000\n",
      "2  Austria  AUT  1992                 0.000\n",
      "3  Austria  AUT  1993                 0.001\n",
      "4  Austria  AUT  1994                 0.001 \n",
      "\n",
      "wind-generation:\n",
      "    Entity Code  Year  Electricity from wind (TWh)\n",
      "0  Austria  AUT  1990                          0.0\n",
      "1  Austria  AUT  1991                          0.0\n",
      "2  Austria  AUT  1992                          0.0\n",
      "3  Austria  AUT  1993                          0.0\n",
      "4  Austria  AUT  1994                          0.0 \n",
      "\n",
      "wind-share-energy:\n",
      "    Entity Code  Year  Wind (% sub energy)\n",
      "0  Austria  AUT  1990                  0.0\n",
      "1  Austria  AUT  1991                  0.0\n",
      "2  Austria  AUT  1992                  0.0\n",
      "3  Austria  AUT  1993                  0.0\n",
      "4  Austria  AUT  1994                  0.0 \n",
      "\n"
     ]
    }
   ],
   "execution_count": 44
  }
 ],
 "metadata": {
  "kernelspec": {
   "display_name": "Python 3",
   "language": "python",
   "name": "python3"
  },
  "language_info": {
   "codemirror_mode": {
    "name": "ipython",
    "version": 3
   },
   "file_extension": ".py",
   "mimetype": "text/x-python",
   "name": "python",
   "nbconvert_exporter": "python",
   "pygments_lexer": "ipython3",
   "version": "3.9.6"
  }
 },
 "nbformat": 4,
 "nbformat_minor": 2
}
