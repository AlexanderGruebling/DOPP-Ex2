{
 "cells": [
  {
   "metadata": {},
   "cell_type": "markdown",
   "source": [
    "# Introduction\n",
    "## What we are trying to accomplish\n",
    "In general we are trying to provide answers to the following questions:\n",
    "- How is the adoption of renewable energy in Europe evolving?\n",
    "- How is the adoption of different types of renewable energy evolving?\n",
    "- Are there characteristics of countries that correlate with their level of adoption of renewable energy?\n",
    "\n",
    "### Main Questions\n",
    "As these questions are defined very broadly and can be answered in a variety of ways, we decided to formulate the following more discreet questions, focusing on the production and consumption of renewable energy in europe:\n",
    "- How has the adoption of renewable energy in Europe developed over time?\n",
    "- Which types of renewable energy have been predominantly adopted?\n",
    "\n",
    "### Sub Questions\n",
    "- How do economic factors like GDP influence the adoption of renewable energy?\n",
    "\n",
    "\n",
    "## Data Description\n",
    "We are using the dataset from [Kaggle](https://www.kaggle.com/datasets/programmerrdai/renewable-energy/data). The general description can be found at the original [ourworldindata.org](https://ourworldindata.org/grapher/installed-solar-pv-capacity#:~:text=IRENA%20%E2%80%93%20Renewable%20Capacity-,Statistics) description.\n",
    "**Absolute Values:** Absolute measurements are represented in megawatts (MW) rounded to the nearest one megawatt, with figures between zero and 0.5MW shown as a 0.\n",
    "**Shares:** Shares are represented as percentages\n",
    "\n",
    "## Load and check data\n",
    "Load all required packages and modules"
   ]
  },
  {
   "metadata": {
    "ExecuteTime": {
     "end_time": "2025-01-24T17:33:58.676897Z",
     "start_time": "2025-01-24T17:33:53.737717Z"
    }
   },
   "cell_type": "code",
   "source": [
    "import glob\n",
    "import os\n",
    "import pandas as pd\n",
    "import matplotlib.pyplot as plt\n",
    "import seaborn as sns"
   ],
   "outputs": [],
   "execution_count": 100
  },
  {
   "metadata": {},
   "cell_type": "markdown",
   "source": "The dataset contains a wide range of data from different countries and time ranges. In this exercise we chose to only consider **European** countries and the **years (1990-2020)** to answer our questions."
  },
  {
   "metadata": {
    "ExecuteTime": {
     "end_time": "2025-01-24T17:33:58.710078Z",
     "start_time": "2025-01-24T17:33:58.700042Z"
    }
   },
   "cell_type": "code",
   "source": [
    "# ISO codes for European countries\n",
    "country_codes = (\n",
    "    'AUT', 'BEL', 'BGR', 'HRV', 'CYP', 'CZE', 'DNK', 'EST', 'FIN', 'FRA',\n",
    "    'DEU', 'GRC', 'HUN', 'ISL', 'IRL', 'ITA', 'LVA', 'LTU', 'LUX', 'MLT',\n",
    "    'NLD', 'NOR', 'POL', 'PRT', 'ROU', 'SVK', 'SVN', 'ESP', 'SWE', 'CHE', 'GBR')\n",
    "time_window = (1990, 2020)"
   ],
   "outputs": [],
   "execution_count": 101
  },
  {
   "metadata": {},
   "cell_type": "markdown",
   "source": [
    "We clean the data by:\n",
    "- Handling all NaN by dropping them\n",
    "- Removing all non-European countries\n",
    "- Only consider our targeted time window (1990-2020)"
   ]
  },
  {
   "metadata": {
    "ExecuteTime": {
     "end_time": "2025-01-24T17:33:58.821302Z",
     "start_time": "2025-01-24T17:33:58.799720Z"
    }
   },
   "cell_type": "code",
   "source": [
    "def clean_df(df: pd.DataFrame) -> pd.DataFrame:\n",
    "    df = df.dropna()  # Remove NaN values, TODO: check if this is the best option\n",
    "\n",
    "    # Only Use European Countries & Europe accumulated data\n",
    "    df = df[(df['Code'].isin(country_codes)) | (df['Entity'] == 'Europe')]\n",
    "\n",
    "    # Only consider data from (1990-2020)\n",
    "    if 'Year' in df.columns:\n",
    "        df['Year'] = pd.to_numeric(df['Year'], errors='coerce')\n",
    "        df = df[(df['Year'] >= time_window[0]) & (df['Year'] <= time_window[1])]\n",
    "\n",
    "    return df"
   ],
   "outputs": [],
   "execution_count": 102
  },
  {
   "metadata": {},
   "cell_type": "markdown",
   "source": "Now that all the unwanted rows are removed, we can use multi-indexing for the dataframe."
  },
  {
   "metadata": {
    "ExecuteTime": {
     "end_time": "2025-01-24T17:33:58.876026Z",
     "start_time": "2025-01-24T17:33:58.866318Z"
    }
   },
   "cell_type": "code",
   "source": [
    "def convert_df_to_multindex(df: pd.DataFrame) -> pd.DataFrame:\n",
    "    return df"
   ],
   "outputs": [],
   "execution_count": 103
  },
  {
   "metadata": {},
   "cell_type": "markdown",
   "source": "Put it all together and read and clean the dataframes:"
  },
  {
   "metadata": {
    "ExecuteTime": {
     "end_time": "2025-01-24T17:33:59.868783Z",
     "start_time": "2025-01-24T17:33:58.978663Z"
    }
   },
   "cell_type": "code",
   "source": [
    "def read_and_clean_csv(file) -> pd.DataFrame:\n",
    "    df = pd.read_csv(file)\n",
    "    df = clean_df(df)\n",
    "    df = convert_df_to_multindex(df)\n",
    "    return df\n",
    "\n",
    "folder_path = os.path.join('..', 'data')\n",
    "csv_files = glob.glob(os.path.join(folder_path, '*.csv'))\n",
    "\n",
    "dataframes = {os.path.basename(file): clean_df(read_and_clean_csv(file)) for file in csv_files}"
   ],
   "outputs": [],
   "execution_count": 104
  },
  {
   "metadata": {},
   "cell_type": "markdown",
   "source": "### Check the Data"
  },
  {
   "metadata": {
    "ExecuteTime": {
     "end_time": "2025-01-24T17:33:59.961923Z",
     "start_time": "2025-01-24T17:33:59.880106Z"
    }
   },
   "cell_type": "code",
   "source": [
    "# Optionally, print the cleaned data for verification\n",
    "for key, df in dataframes.items():\n",
    "    print(f'{key}:')\n",
    "    print(df.head(), '\\n')"
   ],
   "outputs": [
    {
     "name": "stdout",
     "output_type": "stream",
     "text": [
      "biofuel-production.csv:\n",
      "      Entity Code  Year  Biofuels Production - TWh - Total\n",
      "124  Austria  AUT  1990                           0.073269\n",
      "125  Austria  AUT  1991                           0.080247\n",
      "126  Austria  AUT  1992                           0.089551\n",
      "127  Austria  AUT  1993                           0.101181\n",
      "128  Austria  AUT  1994                           0.067454 \n",
      "\n",
      "cumulative-installed-wind-energy-capacity-gigawatts.csv:\n",
      "      Entity Code  Year  Wind Capacity\n",
      "96   Austria  AUT  1997          0.020\n",
      "97   Austria  AUT  1998          0.030\n",
      "98   Austria  AUT  1999          0.042\n",
      "99   Austria  AUT  2000          0.050\n",
      "100  Austria  AUT  2001          0.067 \n",
      "\n",
      "hydro-share-energy.csv:\n",
      "      Entity Code  Year  Hydro (% sub energy)\n",
      "305  Austria  AUT  1990                26.600\n",
      "306  Austria  AUT  1991                25.290\n",
      "307  Austria  AUT  1992                28.540\n",
      "308  Austria  AUT  1993                29.555\n",
      "309  Austria  AUT  1994                28.912 \n",
      "\n",
      "hydropower-consumption.csv:\n",
      "      Entity Code  Year  Electricity from hydro (TWh)\n",
      "486  Austria  AUT  1990                         31.51\n",
      "487  Austria  AUT  1991                         31.44\n",
      "488  Austria  AUT  1992                         34.85\n",
      "489  Austria  AUT  1993                         36.71\n",
      "490  Austria  AUT  1994                         35.71 \n",
      "\n",
      "installed-geothermal-capacity.csv:\n",
      "      Entity Code  Year  Geothermal Capacity\n",
      "136  Croatia  HRV  1990                  0.0\n",
      "137  Croatia  HRV  1995                  0.0\n",
      "138  Croatia  HRV  2000                  0.0\n",
      "139  Croatia  HRV  2001                  0.0\n",
      "140  Croatia  HRV  2002                  0.0 \n",
      "\n",
      "installed-solar-PV-capacity.csv:\n",
      "      Entity Code  Year  Solar Capacity\n",
      "125  Austria  AUT  1996          0.0017\n",
      "126  Austria  AUT  1997          0.0022\n",
      "127  Austria  AUT  1998          0.0029\n",
      "128  Austria  AUT  1999          0.0037\n",
      "129  Austria  AUT  2000          0.0050 \n",
      "\n",
      "modern-renewable-energy-consumption.csv:\n",
      "      Entity Code  Year  Wind Generation - TWh  Solar Generation - TWh  \\\n",
      "305  Austria  AUT  1990                    0.0                   0.000   \n",
      "306  Austria  AUT  1991                    0.0                   0.000   \n",
      "307  Austria  AUT  1992                    0.0                   0.000   \n",
      "308  Austria  AUT  1993                    0.0                   0.001   \n",
      "309  Austria  AUT  1994                    0.0                   0.001   \n",
      "\n",
      "     Geo Biomass Other - TWh  Hydro Generation - TWh  \n",
      "305                 1.142485               31.509000  \n",
      "306                 1.225832               31.443400  \n",
      "307                 1.329164               34.848400  \n",
      "308                 1.361111               36.705556  \n",
      "309                 1.210555               35.707500   \n",
      "\n",
      "modern-renewable-prod.csv:\n",
      "      Entity Code  Year  Electricity from wind (TWh)  \\\n",
      "486  Austria  AUT  1990                          0.0   \n",
      "487  Austria  AUT  1991                          0.0   \n",
      "488  Austria  AUT  1992                          0.0   \n",
      "489  Austria  AUT  1993                          0.0   \n",
      "490  Austria  AUT  1994                          0.0   \n",
      "\n",
      "     Electricity from hydro (TWh)  Electricity from solar (TWh)  \\\n",
      "486                         31.51                           0.0   \n",
      "487                         31.44                           0.0   \n",
      "488                         34.85                           0.0   \n",
      "489                         36.71                           0.0   \n",
      "490                         35.71                           0.0   \n",
      "\n",
      "     Electricity from other renewables including bioenergy (TWh)  \n",
      "486                                               1.13            \n",
      "487                                               1.21            \n",
      "488                                               1.31            \n",
      "489                                               1.34            \n",
      "490                                               1.19             \n",
      "\n",
      "renewable-share-energy.csv:\n",
      "      Entity Code  Year  Renewables (% sub energy)\n",
      "305  Austria  AUT  1990                     27.586\n",
      "306  Austria  AUT  1991                     26.299\n",
      "307  Austria  AUT  1992                     29.655\n",
      "308  Austria  AUT  1993                     30.682\n",
      "309  Austria  AUT  1994                     29.914 \n",
      "\n",
      "share-electricity-hydro.csv:\n",
      "      Entity Code  Year  Hydro (% electricity)\n",
      "366  Austria  AUT  1990                 63.915\n",
      "367  Austria  AUT  1991                 62.654\n",
      "368  Austria  AUT  1992                 69.770\n",
      "369  Austria  AUT  1993                 71.462\n",
      "370  Austria  AUT  1994                 68.528 \n",
      "\n",
      "share-electricity-renewables.csv:\n",
      "      Entity Code  Year  Renewables (% electricity)\n",
      "366  Austria  AUT  1990                      66.207\n",
      "367  Austria  AUT  1991                      65.066\n",
      "368  Austria  AUT  1992                      72.392\n",
      "369  Austria  AUT  1993                      74.070\n",
      "370  Austria  AUT  1994                      70.812 \n",
      "\n",
      "share-electricity-solar.csv:\n",
      "      Entity Code  Year  Solar (% electricity)\n",
      "366  Austria  AUT  1990                    0.0\n",
      "367  Austria  AUT  1991                    0.0\n",
      "368  Austria  AUT  1992                    0.0\n",
      "369  Austria  AUT  1993                    0.0\n",
      "370  Austria  AUT  1994                    0.0 \n",
      "\n",
      "share-electricity-wind.csv:\n",
      "      Entity Code  Year  Wind (% electricity)\n",
      "366  Austria  AUT  1990                   0.0\n",
      "367  Austria  AUT  1991                   0.0\n",
      "368  Austria  AUT  1992                   0.0\n",
      "369  Austria  AUT  1993                   0.0\n",
      "370  Austria  AUT  1994                   0.0 \n",
      "\n",
      "solar-energy-consumption.csv:\n",
      "      Entity Code  Year  Electricity from solar (TWh)\n",
      "486  Austria  AUT  1990                           0.0\n",
      "487  Austria  AUT  1991                           0.0\n",
      "488  Austria  AUT  1992                           0.0\n",
      "489  Austria  AUT  1993                           0.0\n",
      "490  Austria  AUT  1994                           0.0 \n",
      "\n",
      "solar-share-energy.csv:\n",
      "      Entity Code  Year  Solar (% sub energy)\n",
      "305  Austria  AUT  1990                 0.000\n",
      "306  Austria  AUT  1991                 0.000\n",
      "307  Austria  AUT  1992                 0.000\n",
      "308  Austria  AUT  1993                 0.001\n",
      "309  Austria  AUT  1994                 0.001 \n",
      "\n",
      "wind-generation.csv:\n",
      "      Entity Code  Year  Electricity from wind (TWh)\n",
      "486  Austria  AUT  1990                          0.0\n",
      "487  Austria  AUT  1991                          0.0\n",
      "488  Austria  AUT  1992                          0.0\n",
      "489  Austria  AUT  1993                          0.0\n",
      "490  Austria  AUT  1994                          0.0 \n",
      "\n",
      "wind-share-energy.csv:\n",
      "      Entity Code  Year  Wind (% sub energy)\n",
      "305  Austria  AUT  1990                  0.0\n",
      "306  Austria  AUT  1991                  0.0\n",
      "307  Austria  AUT  1992                  0.0\n",
      "308  Austria  AUT  1993                  0.0\n",
      "309  Austria  AUT  1994                  0.0 \n",
      "\n"
     ]
    }
   ],
   "execution_count": 105
  }
 ],
 "metadata": {
  "kernelspec": {
   "display_name": "Python 3",
   "language": "python",
   "name": "python3"
  },
  "language_info": {
   "codemirror_mode": {
    "name": "ipython",
    "version": 3
   },
   "file_extension": ".py",
   "mimetype": "text/x-python",
   "name": "python",
   "nbconvert_exporter": "python",
   "pygments_lexer": "ipython3",
   "version": "3.9.6"
  }
 },
 "nbformat": 4,
 "nbformat_minor": 2
}
