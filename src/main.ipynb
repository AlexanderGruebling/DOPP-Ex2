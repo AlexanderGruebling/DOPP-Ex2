{
 "cells": [
  {
   "cell_type": "markdown",
   "metadata": {},
   "source": [
    "# Introduction\n",
    "## What we are trying to accomplish\n",
    "In general we are trying to provide answers to the following questions:\n",
    "- How is the adoption of renewable energy in Europe evolving?\n",
    "- How is the adoption of different types of renewable energy evolving?\n",
    "- Are there characteristics of countries that correlate with their level of adoption of renewable energy?\n",
    "\n",
    "### Main Questions\n",
    "As these questions are defined very broadly and can be answered in a variety of ways, we decided to formulate the following more discreet questions, focusing on the production and consumption of renewable energy in europe:\n",
    "- How has the adoption of renewable energy in Europe developed over time?\n",
    "- Which types of renewable energy have been predominantly adopted?\n",
    "\n",
    "### Sub Questions\n",
    "- How do economic factors like GDP influence the adoption of renewable energy?\n",
    "\n",
    "\n",
    "## Data Description\n",
    "We are using the dataset from [Kaggle](https://www.kaggle.com/datasets/programmerrdai/renewable-energy/data). The general description can be found at the original [ourworldindata.org](https://ourworldindata.org/grapher/installed-solar-pv-capacity#:~:text=IRENA%20%E2%80%93%20Renewable%20Capacity-,Statistics) data source.\n",
    "**Absolute Values:** Absolute measurements are represented in megawatts (MW) rounded to the nearest one megawatt, with figures between zero and 0.5MW shown as a 0.\n",
    "**Shares:** Shares are represented as percentages\n",
    "\n",
    "## Exploring the data\n",
    "Load all required packages and modules"
   ]
  },
  {
   "cell_type": "code",
   "execution_count": 1,
   "metadata": {
    "ExecuteTime": {
     "end_time": "2025-01-25T17:31:02.482052Z",
     "start_time": "2025-01-25T17:31:02.479077Z"
    }
   },
   "outputs": [],
   "source": [
    "import glob\n",
    "import os\n",
    "import pandas as pd\n",
    "import matplotlib.pyplot as plt\n",
    "import seaborn as sns\n",
    "from sklearn.ensemble import RandomForestRegressor\n",
    "from sklearn.linear_model import Lasso\n",
    "from sklearn.model_selection import train_test_split, GridSearchCV, TimeSeriesSplit\n",
    "from sklearn.metrics import mean_squared_error\n",
    "from sklearn.preprocessing import StandardScaler\n",
    "import numpy as np"
   ]
  },
  {
   "cell_type": "markdown",
   "metadata": {},
   "source": [
    "The dataset contains a wide range of data from different countries and time ranges. In this exercise we chose to only consider **european** countries and compare them to the overall european and global trends. We take the **years (1990-2020)** into consideration to answer our questions."
   ]
  },
  {
   "cell_type": "code",
   "execution_count": 2,
   "metadata": {
    "ExecuteTime": {
     "end_time": "2025-01-25T17:31:02.525475Z",
     "start_time": "2025-01-25T17:31:02.521965Z"
    }
   },
   "outputs": [],
   "source": [
    "# ISO codes for European countries\n",
    "country_codes = (\n",
    "    'AUT', 'BEL', 'BGR', 'HRV', 'CYP', 'CZE', 'DNK', 'EST', 'FIN', 'FRA',\n",
    "    'DEU', 'GRC', 'HUN', 'ISL', 'IRL', 'ITA', 'LVA', 'LTU', 'LUX', 'MLT',\n",
    "    'NLD', 'NOR', 'POL', 'PRT', 'ROU', 'SVK', 'SVN', 'ESP', 'SWE', 'CHE', 'GBR')\n",
    "entities = ('Europe', 'World')\n",
    "time_window = (1980, 2020)"
   ]
  },
  {
   "cell_type": "markdown",
   "metadata": {},
   "source": [
    "We clean the data by:\n",
    "- Handling all NaN by dropping them\n",
    "- Removing all non-European countries\n",
    "- Only consider our targeted time window (1990-2020)"
   ]
  },
  {
   "cell_type": "code",
   "execution_count": 3,
   "metadata": {
    "ExecuteTime": {
     "end_time": "2025-01-25T17:31:02.531067Z",
     "start_time": "2025-01-25T17:31:02.525475Z"
    }
   },
   "outputs": [],
   "source": [
    "def clean_df(df: pd.DataFrame) -> pd.DataFrame:\n",
    "    #df = df.dropna()\n",
    "\n",
    "    # Only Use European Countries & Europe/World accumulated data\n",
    "    df = df[(df['Code'].isin(country_codes)) | (df['Entity'].isin(entities))]\n",
    "    #df = df[(df['Entity'] == 'Europe')]\n",
    "\n",
    "    # Only consider data from (1990-2020)\n",
    "    if 'Year' in df.columns:\n",
    "        df.loc[:, 'Year'] = pd.to_numeric(df['Year'], errors='coerce')\n",
    "        df = df[(df['Year'] >= time_window[0]) & (df['Year'] <= time_window[1])]\n",
    "\n",
    "    df.reset_index(drop=True, inplace=True)\n",
    "\n",
    "    return df"
   ]
  },
  {
   "cell_type": "markdown",
   "metadata": {},
   "source": [
    "Put it all together and read and clean the dataframes:"
   ]
  },
  {
   "cell_type": "code",
   "execution_count": 4,
   "metadata": {
    "ExecuteTime": {
     "end_time": "2025-01-25T17:31:02.626295Z",
     "start_time": "2025-01-25T17:31:02.565592Z"
    }
   },
   "outputs": [],
   "source": [
    "def read_and_clean_csv(file) -> pd.DataFrame:\n",
    "    df = pd.read_csv(file)\n",
    "    df = clean_df(df)\n",
    "    return df\n",
    "\n",
    "folder_path = os.path.join('..', 'data')\n",
    "csv_files = glob.glob(os.path.join(folder_path, '*.csv'))\n",
    "\n",
    "dataframes = {os.path.basename(file).split('.')[0]: clean_df(read_and_clean_csv(file)) for file in csv_files}"
   ]
  },
  {
   "cell_type": "markdown",
   "metadata": {},
   "source": [
    "### Merge semantically relevant dataframes\n",
    "Now we merge dataframes that contain semantically relevant data into one. These are:\n",
    "- `share_energy:` merged from `hydro-share-energy`,`solar-share-energy`,`wind-share-energy`,`renewable-share-energy`\n",
    "- `share_electricity:` merged from `share-electricity-hydro`,`share-electricity-solar`,`share-electricity-solar`,`share-electricity-wind`,`share-electricity-renewables`\n",
    "\n"
   ]
  },
  {
   "cell_type": "code",
   "execution_count": 5,
   "metadata": {
    "ExecuteTime": {
     "end_time": "2025-01-25T17:31:02.668069Z",
     "start_time": "2025-01-25T17:31:02.659042Z"
    }
   },
   "outputs": [],
   "source": [
    "def merge_share_dfs(dfs: dict[str: pd.DataFrame], sub_str: str) -> pd.DataFrame:\n",
    "    relevant_keys = [key for key in dfs.keys() if sub_str in key]\n",
    "    filtered_dfs = dfs[relevant_keys[0]]\n",
    "    for key in relevant_keys[1:]:\n",
    "        filtered_dfs = filtered_dfs.merge(\n",
    "            dfs[key],\n",
    "            on=['Entity', 'Code', 'Year'],\n",
    "            how='outer',\n",
    "        )\n",
    "    return filtered_dfs\n",
    "\n",
    "share_energy_long = merge_share_dfs(dataframes, 'share-energy')\n",
    "share_electricity_long = merge_share_dfs(dataframes, 'share-electricity')"
   ]
  },
  {
   "cell_type": "markdown",
   "metadata": {},
   "source": [
    "Add 'Other Renewables' Column"
   ]
  },
  {
   "cell_type": "code",
   "execution_count": 6,
   "metadata": {
    "ExecuteTime": {
     "end_time": "2025-01-25T17:31:02.702308Z",
     "start_time": "2025-01-25T17:31:02.698678Z"
    }
   },
   "outputs": [],
   "source": [
    "share_energy_long['Other Renewables (% sub energy)'] = share_energy_long['Renewables (% sub energy)'] - ((share_energy_long['Solar (% sub energy)']) + (share_energy_long['Hydro (% sub energy)']) + (share_energy_long['Wind (% sub energy)']))\n",
    "share_electricity_long['Other Renewables (% electricity)'] = share_electricity_long['Renewables (% electricity)'] - ((share_electricity_long['Solar (% electricity)']) + (share_electricity_long['Hydro (% electricity)']) + (share_electricity_long['Wind (% electricity)']))"
   ]
  },
  {
   "cell_type": "markdown",
   "metadata": {},
   "source": [
    "### Multi-Index\n",
    "These newly merged frames can now be converted from a long format to a wide multi-index dataformat."
   ]
  },
  {
   "cell_type": "code",
   "execution_count": 7,
   "metadata": {
    "ExecuteTime": {
     "end_time": "2025-01-25T17:31:02.738587Z",
     "start_time": "2025-01-25T17:31:02.733709Z"
    }
   },
   "outputs": [],
   "source": [
    "share_energy = share_energy_long.set_index(['Entity','Code', 'Year'])\n",
    "share_electricity = share_electricity_long.set_index(['Entity','Code', 'Year'])"
   ]
  },
  {
   "cell_type": "markdown",
   "metadata": {},
   "source": [
    "### Check the Data"
   ]
  },
  {
   "cell_type": "code",
   "execution_count": null,
   "metadata": {
    "ExecuteTime": {
     "end_time": "2025-01-25T17:31:02.786139Z",
     "start_time": "2025-01-25T17:31:02.770069Z"
    }
   },
   "outputs": [],
   "source": [
    "print(\"Merged 'share_energy' DataFrame:\")\n",
    "display(share_energy)\n",
    "\n",
    "print(\"\\nMerged 'share_electricity' DataFrame:\")\n",
    "display(share_electricity)\n",
    "\n",
    "print(share_energy.info())\n",
    "print(share_energy)"
   ]
  },
  {
   "cell_type": "markdown",
   "metadata": {},
   "source": [
    "### Noticing Trends\n",
    "Now let's create some plots in order to better observe certain trends"
   ]
  },
  {
   "cell_type": "code",
   "execution_count": null,
   "metadata": {
    "ExecuteTime": {
     "end_time": "2025-01-25T17:31:03.091576Z",
     "start_time": "2025-01-25T17:31:02.818038Z"
    }
   },
   "outputs": [],
   "source": [
    "data_filtered = share_energy.loc[:]\n",
    "\n",
    "# Reset index to make Year a column for plotting\n",
    "data_filtered = data_filtered.reset_index()\n",
    "\n",
    "# Plot renewables over time for selected countries\n",
    "plt.figure(figsize=(20, 10))\n",
    "sns.lineplot(data=data_filtered, x='Year', y='Renewables (% sub energy)', hue='Entity')\n",
    "plt.title('Renewable Energy Usage Over Time')\n",
    "plt.ylabel('% of Energy from Renewables')\n",
    "plt.xlabel('Year')\n",
    "plt.legend(title='Country')\n",
    "plt.grid(True)\n",
    "plt.show()"
   ]
  },
  {
   "cell_type": "code",
   "execution_count": null,
   "metadata": {
    "ExecuteTime": {
     "end_time": "2025-01-25T17:31:03.415698Z",
     "start_time": "2025-01-25T17:31:03.127454Z"
    }
   },
   "outputs": [],
   "source": [
    "# Filter data for specific countries\n",
    "countries = ['Austria', 'Belgium', 'Czechia', 'Europe', 'France', 'Germany', 'Spain', 'Norway', 'Romania', 'United Kingdom', 'World']\n",
    "data_filtered = share_energy.loc[:]\n",
    "\n",
    "# Reset index to make Year a column for plotting\n",
    "data_filtered = data_filtered.reset_index()\n",
    "\n",
    "# Define standout countries\n",
    "standout_countries = ['Austria', 'Europe', 'World']\n",
    "\n",
    "# Create a custom color palette\n",
    "palette = {country: 'black' for country in data_filtered['Entity'].unique()}\n",
    "palette.update({\n",
    "    'Austria': 'red',\n",
    "    'Europe': 'blue',\n",
    "    'World': 'green'\n",
    "})\n",
    "\n",
    "# Plot\n",
    "plt.figure(figsize=(20, 10))\n",
    "\n",
    "# Plot all countries with lighter lines\n",
    "sns.lineplot(\n",
    "    data=data_filtered[~data_filtered['Entity'].isin(standout_countries)],\n",
    "    x='Year', y='Renewables (% sub energy)',\n",
    "    hue='Entity', palette=palette, alpha=0.4, linewidth=1\n",
    ")\n",
    "\n",
    "# Plot standout countries with distinctive styles\n",
    "sns.lineplot(\n",
    "    data=data_filtered[data_filtered['Entity'].isin(standout_countries)],\n",
    "    x='Year', y='Renewables (% sub energy)',\n",
    "    hue='Entity', palette=palette, linewidth=2.5\n",
    ")\n",
    "\n",
    "# Add titles and labels\n",
    "plt.title('Renewable Energy Usage Over Time', fontsize=18)\n",
    "plt.ylabel('% of Energy from Renewables', fontsize=12)\n",
    "plt.xlabel('Year', fontsize=14)\n",
    "plt.legend(title='Country', fontsize=12, title_fontsize=14)\n",
    "plt.grid(True)\n",
    "\n",
    "# Highlight lines with direct annotations\n",
    "for country in standout_countries:\n",
    "    country_data = data_filtered[data_filtered['Entity'] == country]\n",
    "    plt.text(\n",
    "        country_data['Year'].iloc[-1],\n",
    "        country_data['Renewables (% sub energy)'].iloc[-1],\n",
    "        country,\n",
    "        color=palette[country], fontsize=12, weight='bold'\n",
    "    )\n",
    "\n",
    "plt.show()"
   ]
  },
  {
   "cell_type": "code",
   "execution_count": null,
   "metadata": {
    "ExecuteTime": {
     "end_time": "2025-01-25T17:31:03.604178Z",
     "start_time": "2025-01-25T17:31:03.451007Z"
    }
   },
   "outputs": [],
   "source": [
    "# Select data for Austria\n",
    "country_austria = 'Austria'\n",
    "data_austria = share_energy.loc[country_austria].reset_index()\n",
    "\n",
    "# Select data for Europe\n",
    "country_europe = 'Europe'\n",
    "data_europe = share_energy.loc[country_europe].reset_index()\n",
    "\n",
    "# Create a figure with two subplots\n",
    "fig, axes = plt.subplots(1, 2, figsize=(20, 6), sharey=True)\n",
    "\n",
    "# Plot for Austria\n",
    "axes[0].stackplot(\n",
    "    data_austria['Year'],\n",
    "    data_austria['Hydro (% sub energy)'],\n",
    "    data_austria['Solar (% sub energy)'],\n",
    "    data_austria['Wind (% sub energy)'],\n",
    "    labels=['Hydro', 'Solar', 'Wind'],\n",
    "    alpha=0.8\n",
    ")\n",
    "axes[0].set_title(f'Renewable Energy Sources Contribution Over Time - {country_austria}', fontsize=14)\n",
    "axes[0].set_xlabel('Year', fontsize=12)\n",
    "axes[0].set_ylabel('% of Energy', fontsize=12)\n",
    "axes[0].legend(loc='upper left')\n",
    "axes[0].grid(True)\n",
    "\n",
    "# Plot for Europe\n",
    "axes[1].stackplot(\n",
    "    data_europe['Year'],\n",
    "    data_europe['Hydro (% sub energy)'],\n",
    "    data_europe['Solar (% sub energy)'],\n",
    "    data_europe['Wind (% sub energy)'],\n",
    "    labels=['Hydro', 'Solar', 'Wind'],\n",
    "    alpha=0.8\n",
    ")\n",
    "axes[1].set_title(f'Renewable Energy Sources Contribution Over Time - {country_europe}', fontsize=14)\n",
    "axes[1].set_xlabel('Year', fontsize=12)\n",
    "axes[1].grid(True)\n",
    "\n",
    "# Adjust layout\n",
    "plt.suptitle('Comparison of Renewable Energy Sources: Austria vs Europe', fontsize=16)\n",
    "plt.tight_layout(rect=(0, 0, 1, 0.95))\n",
    "plt.show()"
   ]
  },
  {
   "cell_type": "markdown",
   "metadata": {},
   "source": [
    "Even though we only have specific data for Hydro, Solar and Wing generation, there other renewable ways of generating energy. To show how much data we are missing on other renewable energy types, we plotted the most recent (2020) energy usage."
   ]
  },
  {
   "cell_type": "code",
   "execution_count": null,
   "metadata": {
    "ExecuteTime": {
     "end_time": "2025-01-25T17:31:03.837242Z",
     "start_time": "2025-01-25T17:31:03.636953Z"
    }
   },
   "outputs": [],
   "source": [
    "# Filter the data for the year 2020\n",
    "data_2020 = share_energy.xs(key=2020, level='Year')\n",
    "\n",
    "# Sort by total renewables for better visualization\n",
    "data_2020 = data_2020.sort_values(by='Renewables (% sub energy)', ascending=False)\n",
    "\n",
    "# Create a stacked bar plot\n",
    "plt.figure(figsize=(14, 10))\n",
    "\n",
    "# Plot the total renewable energy as a separate bar beforehand\n",
    "# This makes it show up as the other types of renewable energy that we are missing (e.g. not in hydro, wind, solar)\n",
    "plt.barh(data_2020.index.get_level_values('Entity'), data_2020['Renewables (% sub energy)'], label='Other Renewables', color='gray', alpha=0.5)\n",
    "\n",
    "# Plot the stacked bars for Hydro, Solar, and Wind\n",
    "plt.barh(data_2020.index.get_level_values('Entity'), data_2020['Hydro (% sub energy)'], label='Hydro', color='blue')\n",
    "plt.barh(\n",
    "    data_2020.index.get_level_values('Entity'),\n",
    "    data_2020['Solar (% sub energy)'],\n",
    "    left=data_2020['Hydro (% sub energy)'],\n",
    "    label='Solar',\n",
    "    color='orange'\n",
    ")\n",
    "plt.barh(\n",
    "    data_2020.index.get_level_values('Entity'),\n",
    "    data_2020['Wind (% sub energy)'],\n",
    "    left=data_2020['Hydro (% sub energy)'] + data_2020['Solar (% sub energy)'],\n",
    "    label='Wind',\n",
    "    color='green'\n",
    ")\n",
    "\n",
    "# Add labels and title\n",
    "plt.title('Overview of Renewable Energy Usage by Country in 2020', fontsize=16)\n",
    "plt.xlabel('% of Total Energy', fontsize=12)\n",
    "plt.ylabel('Country', fontsize=12)\n",
    "plt.legend(title='Energy Source', fontsize=12, title_fontsize=14)\n",
    "plt.grid(axis='x', linestyle='--', alpha=0.7)\n",
    "\n",
    "# Show plot\n",
    "plt.tight_layout()\n",
    "plt.show()"
   ]
  },
  {
   "cell_type": "markdown",
   "metadata": {},
   "source": [
    "## Which types of renewable energy have been predominantly adopted?\n",
    "Plot how the percentage of renewable energy from different sources (Hydro, Solar, Wind, and Other Renewables) has changed globally, to get an overall view."
   ]
  },
  {
   "cell_type": "code",
   "execution_count": null,
   "metadata": {
    "ExecuteTime": {
     "end_time": "2025-01-25T17:31:03.901412Z",
     "start_time": "2025-01-25T17:31:03.870539Z"
    }
   },
   "outputs": [],
   "source": [
    "# Filter for global data (use 'World' as the entity)\n",
    "share_energy_europe = share_energy.xs(key='Europe', level='Entity')\n",
    "\n",
    "# TODO replace with seaborn\n",
    "# Plot trends in renewable energy types (Hydro, Solar, Wind, Other Renewables) globally\n",
    "plt.figure(figsize=(14, 8))\n",
    "plt.plot(share_energy_europe.index.get_level_values('Year'), share_energy_europe['Hydro (% sub energy)'], label='Hydro', color='blue')\n",
    "plt.plot(share_energy_europe.index.get_level_values('Year'), share_energy_europe['Solar (% sub energy)'], label='Solar', color='orange')\n",
    "plt.plot(share_energy_europe.index.get_level_values('Year'), share_energy_europe['Wind (% sub energy)'], label='Wind', color='green')\n",
    "plt.plot(share_energy_europe.index.get_level_values('Year'), share_energy_europe['Other Renewables (% sub energy)'], label='Other Renewables', color='purple')\n",
    "\n",
    "plt.title('Global Trends in Renewable Energy Adoption (1990-2020)', fontsize=16)\n",
    "plt.xlabel('Year', fontsize=12)\n",
    "plt.ylabel('% of Total Energy', fontsize=12)\n",
    "plt.legend(title='Energy Type', fontsize=12)\n",
    "plt.grid(True)\n",
    "plt.tight_layout()\n",
    "plt.show()"
   ]
  },
  {
   "cell_type": "markdown",
   "metadata": {},
   "source": [
    "Determine the dominant renewable energy source by calculating the mean share for each source over time"
   ]
  },
  {
   "cell_type": "code",
   "execution_count": null,
   "metadata": {
    "ExecuteTime": {
     "end_time": "2025-01-25T17:31:03.901412800Z",
     "start_time": "2025-01-25T17:28:31.295855Z"
    }
   },
   "outputs": [],
   "source": [
    "# Calculate the average percentage of each renewable energy type globally over time\n",
    "mean_renewables = share_energy_europe[['Hydro (% sub energy)', 'Solar (% sub energy)', 'Wind (% sub energy)', 'Other Renewables (% sub energy)']].mean()\n",
    "\n",
    "# Sort to identify the most dominant energy type\n",
    "mean_renewables_sorted = mean_renewables.sort_values(ascending=False)\n",
    "\n",
    "# Print the result\n",
    "print(f\"Most Predominantly Adopted Renewable Energy Types (Mean over Time):\\n{mean_renewables_sorted}\")"
   ]
  },
  {
   "cell_type": "markdown",
   "metadata": {},
   "source": [
    "Another interesting analysis is to see which year had the highest adoption of each energy source."
   ]
  },
  {
   "cell_type": "code",
   "execution_count": null,
   "metadata": {
    "ExecuteTime": {
     "end_time": "2025-01-25T17:31:03.901412800Z",
     "start_time": "2025-01-25T17:28:31.330061Z"
    }
   },
   "outputs": [],
   "source": [
    "# Find the year with the highest percentage for each renewable energy type globally\n",
    "max_renewables_year = share_energy_europe[['Hydro (% sub energy)', 'Solar (% sub energy)', 'Wind (% sub energy)', 'Other Renewables (% sub energy)']].idxmax()\n",
    "\n",
    "# Print the results\n",
    "print(f\"Year with the highest adoption of each renewable energy type:\\n{max_renewables_year}\")"
   ]
  },
  {
   "cell_type": "markdown",
   "metadata": {},
   "source": [
    "# Interesting statistics and relations\n",
    "## Relation between energy and electricity"
   ]
  },
  {
   "cell_type": "code",
   "execution_count": null,
   "metadata": {
    "ExecuteTime": {
     "end_time": "2025-01-25T17:31:03.901412800Z",
     "start_time": "2025-01-25T17:28:31.366292Z"
    }
   },
   "outputs": [],
   "source": [
    "share_energy_electricity = pd.merge(\n",
    "    share_energy,\n",
    "    share_electricity,\n",
    "    left_index=True,\n",
    "    right_index=True,\n",
    "    how='inner'\n",
    ")\n",
    "display(share_energy_electricity)"
   ]
  },
  {
   "cell_type": "markdown",
   "metadata": {},
   "source": [
    "Let's examine correlations between renewable energy and renewable electricity."
   ]
  },
  {
   "cell_type": "code",
   "execution_count": null,
   "metadata": {
    "ExecuteTime": {
     "end_time": "2025-01-25T17:31:03.913918800Z",
     "start_time": "2025-01-25T17:28:31.411965Z"
    }
   },
   "outputs": [],
   "source": [
    "correlation = share_energy_electricity[['Renewables (% sub energy)', 'Renewables (% electricity)']].corr()\n",
    "print(\"Correlation between renewable energy and renewable electricity:\")\n",
    "print(correlation)"
   ]
  },
  {
   "cell_type": "markdown",
   "metadata": {},
   "source": [
    "Identify countries with the largest gaps between renewable energy and electricity in 2020."
   ]
  },
  {
   "cell_type": "code",
   "execution_count": null,
   "metadata": {
    "ExecuteTime": {
     "end_time": "2025-01-25T17:31:03.913918800Z",
     "start_time": "2025-01-25T17:28:31.454211Z"
    }
   },
   "outputs": [],
   "source": []
  },
  {
   "cell_type": "markdown",
   "metadata": {},
   "source": [
    "### Visualizations"
   ]
  },
  {
   "cell_type": "code",
   "execution_count": null,
   "metadata": {
    "ExecuteTime": {
     "end_time": "2025-01-25T17:31:03.913918800Z",
     "start_time": "2025-01-25T17:28:31.494833Z"
    }
   },
   "outputs": [],
   "source": []
  },
  {
   "cell_type": "code",
   "execution_count": null,
   "metadata": {},
   "outputs": [],
   "source": [
    "# Filter for the year 2020\n",
    "data_2020 = share_energy_electricity.xs(key=2020, level='Year').copy()  # Use `.copy()` to avoid the warning\n",
    "\n",
    "# Calculate the gap between Renewable Electricity and Renewable Energy\n",
    "data_2020.loc[:, 'Gap'] = data_2020['Renewables (% electricity)'] - data_2020['Renewables (% sub energy)']\n",
    "\n",
    "# Sort by the largest gap\n",
    "largest_gaps = data_2020[['Gap']].sort_values(by='Gap', ascending=False).reset_index()\n",
    "\n",
    "# Bar plot for the largest gaps in 2020\n",
    "plt.figure(figsize=(12, 6))\n",
    "sns.barplot(data=largest_gaps.head(10), x='Gap', y='Entity', palette='coolwarm', hue='Entity', dodge=False, legend=False)\n",
    "plt.title('Top 10 Countries with Largest Gaps (Renewables: Electricity vs Energy) - 2020', fontsize=16)\n",
    "plt.xlabel('Gap (% Electricity - % Energy)', fontsize=12)\n",
    "plt.ylabel('Country', fontsize=12)\n",
    "plt.grid(True)\n",
    "plt.tight_layout()\n",
    "plt.show()\n",
    "\n",
    "# Filter for the last 10 years (2011–2020)\n",
    "last_10_years = share_energy_electricity.loc[share_energy_electricity.index.get_level_values('Year') >= 2011].copy()\n",
    "\n",
    "# Calculate the gap for each country and year\n",
    "last_10_years.loc[:, 'Gap'] = last_10_years['Renewables (% electricity)'] - last_10_years['Renewables (% sub energy)']\n",
    "\n",
    "# Reset index for plotting\n",
    "gap_over_time = last_10_years.reset_index()\n",
    "\n",
    "# Line plot for gaps over the last 10 years\n",
    "plt.figure(figsize=(14, 8))\n",
    "sns.lineplot(data=gap_over_time, x='Year', y='Gap', hue='Entity', alpha=0.7)\n",
    "\n",
    "# Add labels and title\n",
    "plt.title('Renewable Electricity vs Energy Gap Over the Last 10 Years', fontsize=16)\n",
    "plt.xlabel('Year', fontsize=12)\n",
    "plt.ylabel('Gap (% Electricity - % Energy)', fontsize=12)\n",
    "plt.legend(title='Country', fontsize=10, bbox_to_anchor=(1.05, 1), loc='upper left')\n",
    "plt.grid(True)\n",
    "plt.tight_layout()\n",
    "plt.show()"
   ]
  },
  {
   "cell_type": "code",
   "execution_count": null,
   "metadata": {
    "ExecuteTime": {
     "end_time": "2025-01-25T17:31:03.913918800Z",
     "start_time": "2025-01-25T17:28:31.527348Z"
    }
   },
   "outputs": [],
   "source": [
    "# Bar plot for largest gaps\n",
    "plt.figure(figsize=(12, 6))\n",
    "sns.barplot(data=largest_gaps.head(10), x='Gap', y='Country', palette='coolwarm')\n",
    "plt.title('Top 10 Countries with Largest Gaps (Renewables: Electricity vs Energy) - 2020', fontsize=16)\n",
    "plt.xlabel('Gap (% Electricity - % Energy)', fontsize=12)\n",
    "plt.ylabel('Country', fontsize=12)\n",
    "plt.grid(True)\n",
    "plt.show()\n"
   ]
  },
  {
   "cell_type": "code",
   "execution_count": null,
   "metadata": {
    "ExecuteTime": {
     "end_time": "2025-01-25T17:31:03.913918800Z",
     "start_time": "2025-01-25T17:08:09.910726Z"
    }
   },
   "outputs": [],
   "source": []
  },
  {
   "cell_type": "code",
   "execution_count": null,
   "metadata": {},
   "outputs": [],
   "source": [
    "# Line plot for trends over time\n",
    "# Define europe_world (if not already defined)\n",
    "europe_world = share_energy_electricity.loc[\n",
    "    share_energy_electricity.index.get_level_values('Entity').isin(['Europe', 'World'])\n",
    "].reset_index()\n",
    "\n",
    "europe_world.rename(columns={'Entity': 'Country'}, inplace=True)\n",
    "\n",
    "# Line plot for trends over time\n",
    "plt.figure(figsize=(12, 6))\n",
    "\n",
    "# Plot for 'Renewables (% sub energy)'\n",
    "sns.lineplot(\n",
    "    data=europe_world,\n",
    "    x='Year',\n",
    "    y='Renewables (% sub energy)',\n",
    "    hue='Country',\n",
    "    style='Country',\n",
    "    markers=True,\n",
    "    dashes=False,\n",
    "    legend=\"full\"\n",
    ")\n",
    "\n",
    "# Plot for 'Renewables (% electricity)'\n",
    "sns.lineplot(\n",
    "    data=europe_world,\n",
    "    x='Year',\n",
    "    y='Renewables (% electricity)',\n",
    "    hue='Country',\n",
    "    style='Country',\n",
    "    markers=False,\n",
    "    dashes=True,\n",
    "    legend=False  # Avoid duplicate legend\n",
    ")\n",
    "\n",
    "# Add plot titles and labels\n",
    "plt.title('Renewable Energy vs Electricity Trends (Europe & World)', fontsize=16)\n",
    "plt.ylabel('% Renewables', fontsize=12)\n",
    "plt.xlabel('Year', fontsize=12)\n",
    "\n",
    "# Customizing the legend\n",
    "handles, labels = plt.gca().get_legend_handles_labels()\n",
    "plt.legend(handles=handles, labels=labels, title='Country')\n",
    "\n",
    "# Add grid and show plot\n",
    "plt.grid(True)\n",
    "plt.tight_layout()\n",
    "plt.show()\n"
   ]
  },
  {
   "cell_type": "code",
   "execution_count": null,
   "metadata": {},
   "outputs": [],
   "source": [
    "# Line plot for trends over time\n",
    "plt.figure(figsize=(12, 6))\n",
    "sns.lineplot(\n",
    "    data=europe_world,\n",
    "    x='Year',\n",
    "    y='Renewables (% sub energy)',\n",
    "    hue='Country',\n",
    "    style='Country',\n",
    "    markers=True,\n",
    "    label='Renewables (% sub energy)'\n",
    ")\n",
    "sns.lineplot(\n",
    "    data=europe_world,\n",
    "    x='Year',\n",
    "    y='Renewables (% electricity)',\n",
    "    hue='Country',\n",
    "    style='Country',\n",
    "    dashes=True,\n",
    "    label='Renewables (% electricity)'\n",
    ")\n",
    "plt.title('Renewable Energy vs Electricity Trends (Europe & World)', fontsize=16)\n",
    "plt.ylabel('% Renewables', fontsize=12)\n",
    "plt.xlabel('Year', fontsize=12)\n",
    "plt.legend(title='Legend')\n",
    "plt.grid(True)\n",
    "plt.show()"
   ]
  },
  {
   "cell_type": "code",
   "execution_count": null,
   "metadata": {},
   "outputs": [],
   "source": [
    "# Filter 2020 data\n",
    "sources_2020 = data_2020[['Country', 'Hydro (% sub energy)', 'Solar (% sub energy)', 'Wind (% sub energy)',\n",
    "                          'Hydro (% electricity)', 'Solar (% electricity)', 'Wind (% electricity)']]\n",
    "\n",
    "# Melt for easier plotting\n",
    "melted = sources_2020.melt(id_vars='Country', var_name='Source', value_name='Percentage')\n",
    "\n",
    "# Separate energy and electricity data\n",
    "melted['Type'] = melted['Source'].apply(lambda x: 'Energy' if 'energy' in x else 'Electricity')\n",
    "melted['Source'] = melted['Source'].str.replace(' (% sub energy)', '').str.replace(' (% electricity)', '')\n",
    "\n",
    "# Plot\n",
    "plt.figure(figsize=(12, 8))\n",
    "sns.barplot(data=melted, x='Percentage', y='Country', hue='Type', palette='muted')\n",
    "plt.title('Renewable Energy vs Electricity Breakdown by Source - 2020', fontsize=16)\n",
    "plt.xlabel('% Contribution', fontsize=12)\n",
    "plt.ylabel('Country', fontsize=12)\n",
    "plt.legend(title='Type')\n",
    "plt.grid(True)\n",
    "plt.show()\n"
   ]
  },
  {
   "cell_type": "code",
   "execution_count": null,
   "metadata": {},
   "outputs": [],
   "source": [
    "# Define data_2020 if not already available\n",
    "data_2020 = share_energy_electricity.xs(key=2020, level='Year').reset_index()\n",
    "\n",
    "# Filter relevant columns for 2020 data and explicitly create a copy\n",
    "sources_2020 = data_2020[['Entity', 'Hydro (% sub energy)', 'Solar (% sub energy)', 'Wind (% sub energy)',\n",
    "                          'Hydro (% electricity)', 'Solar (% electricity)', 'Wind (% electricity)']].copy()\n",
    "\n",
    "# Rename 'Entity' to 'Country' for consistency\n",
    "sources_2020.rename(columns={'Entity': 'Country'}, inplace=True)\n",
    "\n",
    "# Melt for easier plotting\n",
    "melted = sources_2020.melt(id_vars='Country', var_name='Source', value_name='Percentage')\n",
    "\n",
    "# Separate energy and electricity data\n",
    "melted['Type'] = melted['Source'].apply(lambda x: 'Energy' if 'energy' in x else 'Electricity')\n",
    "melted['Source'] = melted['Source'].str.replace(' (% sub energy)', '', regex=True).str.replace(' (% electricity)', '', regex=True)\n",
    "\n",
    "# Plot\n",
    "plt.figure(figsize=(12, 8))\n",
    "sns.barplot(data=melted, x='Percentage', y='Country', hue='Type', palette='muted', ci=None)\n",
    "plt.title('Renewable Energy vs Electricity Breakdown by Source - 2020', fontsize=16)\n",
    "plt.xlabel('% Contribution', fontsize=12)\n",
    "plt.ylabel('Country', fontsize=12)\n",
    "plt.legend(title='Type')\n",
    "plt.grid(True)\n",
    "plt.tight_layout()\n",
    "plt.show()\n",
    "\n"
   ]
  },
  {
   "cell_type": "code",
   "execution_count": null,
   "metadata": {
    "ExecuteTime": {
     "end_time": "2025-01-25T17:31:03.927398700Z",
     "start_time": "2025-01-25T16:22:38.493334Z"
    }
   },
   "outputs": [],
   "source": [
    "# Optionally, print the cleaned data for verification\n",
    "for key, df in dataframes.items():\n",
    "    print(f'{key}:')\n",
    "    print(df.head(), '\\n')"
   ]
  },
  {
   "cell_type": "markdown",
   "metadata": {},
   "source": [
    "# Predictions for the future"
   ]
  },
  {
   "cell_type": "code",
   "execution_count": null,
   "metadata": {},
   "outputs": [],
   "source": [
    "# TODO: Train a model and crate a graph for how the future could look like?\n",
    "\n",
    "data_filtered = data_filtered.dropna(subset=['Code'])\n",
    "\n",
    "X = data_filtered[['Year', 'Hydro (% sub energy)', 'Solar (% sub energy)', 'Wind (% sub energy)', 'Other Renewables (% sub energy)']]\n",
    "y = data_filtered['Renewables (% sub energy)']\n",
    "\n",
    "scaler = StandardScaler()\n",
    "X_scaled = scaler.fit_transform(X)\n",
    "\n",
    "X_train, X_test, y_train, y_test = train_test_split(X_scaled, y, test_size=0.2, random_state=42)\n",
    "\n",
    "rf_model = RandomForestRegressor(random_state=42)\n",
    "\n",
    "param_grid = {\n",
    "    'n_estimators': [100, 200, 300],           \n",
    "    'max_depth': [None, 10, 20, 30],            \n",
    "    'min_samples_split': [2, 5, 10],             \n",
    "    'min_samples_leaf': [1, 2, 4],               \n",
    "    'max_features': ['sqrt', 'log2']            \n",
    "}\n",
    "\n",
    "grid_search = GridSearchCV(estimator=rf_model, param_grid=param_grid, \n",
    "                           scoring='neg_mean_squared_error', cv=5, n_jobs=-1, verbose=2)\n",
    "\n",
    "grid_search.fit(X_train, y_train)\n",
    "\n",
    "print(\"Best parameters found: \", grid_search.best_params_)\n",
    "print(\"Best cross-validation RMSE: \", (-grid_search.best_score_) ** 0.5)\n",
    "\n",
    "best_rf_model = grid_search.best_estimator_\n",
    "\n",
    "y_pred = best_rf_model.predict(X_test)\n",
    "\n",
    "test_rmse = mean_squared_error(y_test, y_pred)\n",
    "print(f\"Test Set RMSE with Best Model: {test_rmse}\")"
   ]
  },
  {
   "cell_type": "code",
   "execution_count": null,
   "metadata": {},
   "outputs": [],
   "source": [
    "# Alternatively try out LASSO regression\n",
    "\n",
    "data_filtered = data_filtered.sort_values(by=['Year'])\n",
    "tscv = TimeSeriesSplit(n_splits=5)\n",
    "\n",
    "lasso_model = Lasso(max_iter=10000, random_state=42)\n",
    "\n",
    "param_grid = {\n",
    "    'alpha': [0.001, 0.01, 0.1, 1, 10, 100]  \n",
    "}\n",
    "\n",
    "grid_search = GridSearchCV(estimator=lasso_model, param_grid=param_grid, \n",
    "                           scoring='neg_mean_squared_error', cv=tscv, n_jobs=-1, verbose=2)\n",
    "\n",
    "grid_search.fit(X_train, y_train)\n",
    "\n",
    "print(\"Best alpha found: \", grid_search.best_params_['alpha'])\n",
    "print(\"Best cross-validation RMSE: \", (-grid_search.best_score_) ** 0.5)\n",
    "\n",
    "best_lasso_model = grid_search.best_estimator_\n",
    "\n",
    "y_pred = best_lasso_model.predict(X_test)\n",
    "\n",
    "test_rmse = mean_squared_error(y_test, y_pred)\n",
    "print(f\"Test Set RMSE with Best Model: {test_rmse:.2f}\")\n",
    "\n",
    "feature_importance = pd.Series(best_lasso_model.coef_, index=X.columns)\n",
    "print(\"Feature Importance (LASSO Coefficients):\")\n",
    "print(feature_importance)\n"
   ]
  },
  {
   "cell_type": "code",
   "execution_count": null,
   "metadata": {},
   "outputs": [],
   "source": [
    "import pandas as pd\n",
    "import numpy as np\n",
    "import matplotlib.pyplot as plt\n",
    "from sklearn.linear_model import Lasso\n",
    "from sklearn.preprocessing import StandardScaler\n",
    "from sklearn.linear_model import LinearRegression\n",
    "\n",
    "df = data_filtered.sort_values(by=['Year'])\n",
    "\n",
    "X_columns = ['Year', 'Hydro (% sub energy)', 'Solar (% sub energy)', 'Wind (% sub energy)', 'Other Renewables (% sub energy)']\n",
    "scaler = StandardScaler()\n",
    "\n",
    "best_alpha = 0.001  \n",
    "lasso_model = Lasso(alpha=best_alpha, max_iter=10000, random_state=42)\n",
    "\n",
    "\n",
    "plt.figure(figsize=(12, 8))\n",
    "\n",
    "for country in countries:\n",
    "    country_df = df[df['Entity'] == country]\n",
    "    \n",
    "    X = country_df[X_columns]\n",
    "    y = country_df['Renewables (% sub energy)']\n",
    "\n",
    "    X_scaled = scaler.fit(X)\n",
    "\n",
    "    lasso_model.fit(X_scaled, y)\n",
    "\n",
    "    last_known_year = country_df['Year'].max()\n",
    "    future_years = np.arange(last_known_year + 1, last_known_year + 51)\n",
    "\n",
    "    future_data = []\n",
    "\n",
    "    for feature in X_columns[1:]:  \n",
    "        lr = LinearRegression()\n",
    "        lr.fit(country_df[['Year']], country_df[feature])\n",
    "        \n",
    "        future_years_df = pd.DataFrame(future_years, columns=['Year'])\n",
    "        future_feature_values = lr.predict(future_years_df)\n",
    "        future_data.append(future_feature_values.flatten())\n",
    "\n",
    "    future_data = np.column_stack([future_years] + future_data)\n",
    "\n",
    "    future_df = pd.DataFrame(future_data, columns=X_columns)\n",
    "    future_data_scaled = scaler.transform(future_df)\n",
    "    future_predictions = lasso_model.predict(future_data_scaled)\n",
    "\n",
    "    plt.plot(country_df['Year'], y, label=f'Actual {country}', linewidth=2)\n",
    "    plt.plot(future_years, future_predictions, label=f'Predicted {country}', linestyle='--')\n",
    "\n",
    "plt.xlabel('Year')\n",
    "plt.ylabel('Renewables (% sub energy)')\n",
    "plt.title('Actual vs Predicted Renewables for Each Country (Next 50 Years)')\n",
    "plt.legend()\n",
    "plt.grid(True)\n",
    "plt.show()\n"
   ]
  },
  {
   "cell_type": "code",
   "execution_count": null,
   "metadata": {},
   "outputs": [],
   "source": [
    "import pandas as pd\n",
    "import numpy as np\n",
    "import matplotlib.pyplot as plt\n",
    "from sklearn.linear_model import Lasso\n",
    "from sklearn.preprocessing import StandardScaler\n",
    "from sklearn.linear_model import LinearRegression\n",
    "\n",
    "# Ensure data is sorted by 'Year'\n",
    "df = data_filtered.sort_values(by=['Year'])\n",
    "\n",
    "# Feature columns and scaler\n",
    "X_columns = ['Year', 'Hydro (% sub energy)', 'Solar (% sub energy)', 'Wind (% sub energy)', 'Other Renewables (% sub energy)']\n",
    "scaler = StandardScaler()\n",
    "\n",
    "# Lasso model with chosen alpha\n",
    "best_alpha = 0.001  \n",
    "lasso_model = Lasso(alpha=best_alpha, max_iter=10000, random_state=42)\n",
    "\n",
    "# Set up plot\n",
    "plt.figure(figsize=(12, 8))\n",
    "\n",
    "# Entities to highlight\n",
    "highlighted_countries = ['Austria', 'Europe', 'World']\n",
    "highlighted_styles = {\n",
    "    'Austria': {'color': 'red', 'linewidth': 2.5},\n",
    "    'Europe': {'color': 'blue', 'linewidth': 2.5},\n",
    "    'World': {'color': 'green', 'linewidth': 2.5},\n",
    "}\n",
    "\n",
    "for country in countries:\n",
    "    # Filter data for the current country\n",
    "    country_df = df[df['Entity'] == country]\n",
    "    \n",
    "    # Prepare features (X) and target (y)\n",
    "    X = country_df[X_columns]\n",
    "    y = country_df['Renewables (% sub energy)']\n",
    "    \n",
    "    # Scale the features\n",
    "    X_scaled = scaler.fit_transform(X)\n",
    "\n",
    "    # Fit the Lasso model\n",
    "    lasso_model.fit(X_scaled, y)\n",
    "\n",
    "    # Generate future years\n",
    "    last_known_year = country_df['Year'].max()\n",
    "    future_years = np.arange(last_known_year + 1, last_known_year + 51)\n",
    "\n",
    "    # Predict future feature values\n",
    "    future_data = []\n",
    "\n",
    "    for feature in X_columns[1:]:  # Exclude 'Year'\n",
    "        lr = LinearRegression()\n",
    "        lr.fit(country_df[['Year']], country_df[feature])\n",
    "        \n",
    "        # Generate future years as a DataFrame with the same column name\n",
    "        future_years_df = pd.DataFrame(future_years, columns=['Year'])\n",
    "        future_feature_values = lr.predict(future_years_df)\n",
    "        future_data.append(future_feature_values.flatten())\n",
    "\n",
    "    # Combine future year and predicted features\n",
    "    future_data = np.column_stack([future_years] + future_data)\n",
    "    future_df = pd.DataFrame(future_data, columns=X_columns)\n",
    "\n",
    "    # Scale future data and make predictions\n",
    "    future_data_scaled = scaler.transform(future_df)\n",
    "    future_predictions = lasso_model.predict(future_data_scaled)\n",
    "\n",
    "    # Determine style for the current country\n",
    "    if country in highlighted_countries:\n",
    "        style = highlighted_styles[country]\n",
    "        plt.plot(country_df['Year'], y, label=f'Actual {country}', **style)\n",
    "        plt.plot(future_years, future_predictions, label=f'Predicted {country}', linestyle='--', **style)\n",
    "    else:\n",
    "        plt.plot(country_df['Year'], y, label=f'Actual {country}', color='gray', linewidth=1, alpha=0.6)\n",
    "        plt.plot(future_years, future_predictions, label=f'Predicted {country}', linestyle='--', color='gray', linewidth=1, alpha=0.6)\n",
    "\n",
    "# Add plot labels, legend, and grid\n",
    "plt.xlabel('Year', fontsize=12)\n",
    "plt.ylabel('Renewables (% sub energy)', fontsize=12)\n",
    "plt.title('Actual vs Predicted Renewables for Each Country (Next 50 Years)', fontsize=16)\n",
    "plt.legend(bbox_to_anchor=(1.05, 1), loc='upper left', fontsize=10)\n",
    "plt.grid(True)\n",
    "plt.tight_layout()\n",
    "plt.show()\n",
    "\n"
   ]
  },
  {
   "cell_type": "code",
   "execution_count": null,
   "metadata": {},
   "outputs": [],
   "source": [
    "import pandas as pd\n",
    "import matplotlib.pyplot as plt\n",
    "import requests\n",
    "\n",
    "# List of European countries\n",
    "european_countries = [\n",
    "    'Austria', 'Belgium', 'Bulgaria', 'Croatia', 'Cyprus', 'Czechia', 'Denmark',\n",
    "    'Estonia', 'Finland', 'France', 'Germany', 'Greece', 'Hungary', 'Iceland',\n",
    "    'Ireland', 'Italy', 'Latvia', 'Lithuania', 'Luxembourg', 'Netherlands',\n",
    "    'Norway', 'Poland', 'Portugal', 'Romania', 'Slovakia', 'Slovenia', 'Spain',\n",
    "    'Sweden', 'Switzerland', 'United Kingdom'\n",
    "]\n",
    "\n",
    "# Function to fetch weather data\n",
    "def fetch_weather_data(lat, lon, start_year, end_year):\n",
    "    \"\"\"Fetch daily solar radiation and wind speed data from NASA POWER API.\"\"\"\n",
    "    base_url = \"https://power.larc.nasa.gov/api/temporal/daily/point\"\n",
    "    params = {\n",
    "        \"parameters\": \"ALLSKY_SFC_SW_DWN,WS10M\",\n",
    "        \"community\": \"AG\",\n",
    "        \"longitude\": lon,\n",
    "        \"latitude\": lat,\n",
    "        \"start\": f\"{start_year}0101\",\n",
    "        \"end\": f\"{end_year}1231\",\n",
    "        \"format\": \"JSON\",\n",
    "        \"header\": \"true\",\n",
    "        \"time-standard\": \"UTC\"\n",
    "    }\n",
    "\n",
    "    response = requests.get(base_url, params=params)\n",
    "    response.raise_for_status()\n",
    "    return response.json()\n",
    "\n",
    "# Dictionary of country coordinates (add exact latitude and longitude for each country)\n",
    "country_coordinates = {\n",
    "    'Austria': (47.5162, 14.5501),\n",
    "    'Belgium': (50.8503, 4.3517),\n",
    "    'Bulgaria': (42.7339, 25.4858),\n",
    "    'Croatia': (45.1, 15.2),\n",
    "    'Cyprus': (35.1264, 33.4299),\n",
    "    'Czechia': (49.8175, 15.473),\n",
    "    'Denmark': (56.2639, 9.5018),\n",
    "    'Estonia': (58.5953, 25.0136),\n",
    "    'Finland': (61.9241, 25.7482),\n",
    "    'France': (46.6034, 1.8883),\n",
    "    'Germany': (51.1657, 10.4515),\n",
    "    'Greece': (39.0742, 21.8243),\n",
    "    'Hungary': (47.1625, 19.5033),\n",
    "    'Iceland': (64.9631, -19.0208),\n",
    "    'Ireland': (53.4129, -8.2439),\n",
    "    'Italy': (41.8719, 12.5674),\n",
    "    'Latvia': (56.8796, 24.6032),\n",
    "    'Lithuania': (55.1694, 23.8813),\n",
    "    'Luxembourg': (49.8153, 6.1296),\n",
    "    'Malta': (35.9375, 14.3754),\n",
    "    'Netherlands': (52.1326, 5.2913),\n",
    "    'Norway': (60.4720, 8.4689),\n",
    "    'Poland': (51.9194, 19.1451),\n",
    "    'Portugal': (39.3999, -8.2245),\n",
    "    'Romania': (45.9432, 24.9668),\n",
    "    'Slovakia': (48.6690, 19.6990),\n",
    "    'Slovenia': (46.1512, 14.9955),\n",
    "    'Spain': (40.4637, -3.7492),\n",
    "    'Sweden': (60.1282, 18.6435),\n",
    "    'Switzerland': (46.8182, 8.2275),\n",
    "    'United Kingdom': (55.3781, -3.4360)\n",
    "}\n",
    "\n",
    "\n",
    "\n",
    "# Fetch weather data for each country\n",
    "weather_data = {}\n",
    "for country, (lat, lon) in country_coordinates.items():\n",
    "    print(f\"Fetching weather data for {country}...\")\n",
    "    try:\n",
    "        data = fetch_weather_data(lat, lon, 2010, 2020)\n",
    "        daily_data = data['properties']['parameter']\n",
    "        df = pd.DataFrame({\n",
    "            'Date': pd.to_datetime(list(daily_data['ALLSKY_SFC_SW_DWN'].keys())),\n",
    "            'Solar Radiation': list(daily_data['ALLSKY_SFC_SW_DWN'].values()),\n",
    "            'Wind Speed': list(daily_data['WS10M'].values())\n",
    "        })\n",
    "        df['Year'] = df['Date'].dt.year\n",
    "        yearly_data = df.groupby('Year')[['Solar Radiation', 'Wind Speed']].mean().reset_index()\n",
    "        weather_data[country] = yearly_data\n",
    "    except Exception as e:\n",
    "        print(f\"Failed to fetch weather data for {country}: {e}\")\n",
    "\n",
    "# Extract power data from `share_energy`\n",
    "power_data = pd.DataFrame()\n",
    "for country in european_countries:\n",
    "    if country in share_energy.index.get_level_values('Entity'):\n",
    "        country_power_data = share_energy.loc[country].reset_index()\n",
    "        country_power_data['Country'] = country\n",
    "        power_data = pd.concat([power_data, country_power_data])\n",
    "\n",
    "# Combine weather and power data\n",
    "combined_data = pd.DataFrame()\n",
    "for country, weather_df in weather_data.items():\n",
    "    power_df = power_data[power_data['Country'] == country]\n",
    "    combined = weather_df.merge(power_df, on='Year', how='inner')\n",
    "    combined['Country'] = country\n",
    "    combined_data = pd.concat([combined_data, combined])\n",
    "\n",
    "# First Plot: Solar Radiation and Wind Speed Trends\n",
    "plt.figure(figsize=(14, 8))\n",
    "for country, data in weather_data.items():\n",
    "    plt.plot(data['Year'], data['Solar Radiation'], label=f\"{country} - Solar Radiation\", linestyle='-', alpha=0.6)\n",
    "    plt.plot(data['Year'], data['Wind Speed'], label=f\"{country} - Wind Speed\", linestyle='--', alpha=0.6)\n",
    "\n",
    "plt.title('Solar Radiation and Wind Speed Trends (2010-2020)', fontsize=16)\n",
    "plt.xlabel('Year', fontsize=12)\n",
    "plt.ylabel('Average Value', fontsize=12)\n",
    "plt.legend(fontsize=8, loc='upper left', bbox_to_anchor=(1.05, 1))\n",
    "plt.grid(True)\n",
    "plt.tight_layout()\n",
    "plt.show()\n",
    "\n",
    "# Scatter Plot 1: Wind Speed vs Wind (% sub energy)\n",
    "plt.figure(figsize=(12, 6))\n",
    "for country in combined_data['Country'].unique():\n",
    "    country_data = combined_data[combined_data['Country'] == country]\n",
    "    plt.scatter(country_data['Wind Speed'], country_data['Wind (% sub energy)'], label=country, alpha=0.6)\n",
    "\n",
    "plt.title('Dependency Between Wind Speed and Wind (% sub energy)', fontsize=16)\n",
    "plt.xlabel('Wind Speed (m/s)', fontsize=12)\n",
    "plt.ylabel('Wind (% of Energy)', fontsize=12)\n",
    "plt.legend(fontsize=8, loc='upper left', bbox_to_anchor=(1.05, 1))\n",
    "plt.grid(True)\n",
    "plt.tight_layout()\n",
    "plt.show()\n",
    "\n",
    "# Scatter Plot 2: Solar Radiation vs Solar (% sub energy)\n",
    "plt.figure(figsize=(12, 6))\n",
    "for country in combined_data['Country'].unique():\n",
    "    country_data = combined_data[combined_data['Country'] == country]\n",
    "    plt.scatter(country_data['Solar Radiation'], country_data['Solar (% sub energy)'], label=country, alpha=0.6)\n",
    "\n",
    "plt.title('Dependency Between Solar Radiation and Solar (% sub energy)', fontsize=16)\n",
    "plt.xlabel('Solar Radiation (kWh/m²/day)', fontsize=12)\n",
    "plt.ylabel('Solar (% of Energy)', fontsize=12)\n",
    "plt.legend(fontsize=8, loc='upper left', bbox_to_anchor=(1.05, 1))\n",
    "plt.grid(True)\n",
    "plt.tight_layout()\n",
    "plt.show()\n"
   ]
  },
  {
   "cell_type": "code",
   "execution_count": null,
   "metadata": {},
   "outputs": [],
   "source": [
    "# Scatter plot for wind speed vs. wind contribution\n",
    "g = sns.relplot(\n",
    "    data=combined_data,\n",
    "    x='Wind Speed',\n",
    "    y='Wind (% sub energy)',\n",
    "    col='Year',\n",
    "    kind='scatter',\n",
    "    col_wrap=4,\n",
    "    height=4,\n",
    "    alpha=0.6,\n",
    "    hue='Country',\n",
    "    palette='tab20',\n",
    "    legend='brief'  # Automatic legend for countries\n",
    ")\n",
    "\n",
    "# Highlight Austria and add European averages with labels\n",
    "for ax, year in zip(g.axes.flat, combined_data['Year'].unique()):\n",
    "    # Highlight Austria\n",
    "    austria_data = combined_data[(combined_data['Country'] == 'Austria') & (combined_data['Year'] == year)]\n",
    "    if not austria_data.empty:\n",
    "        ax.scatter(\n",
    "            austria_data['Wind Speed'], austria_data['Wind (% sub energy)'],\n",
    "            color='red', s=150, edgecolor='black', zorder=5  # Highlight Austria\n",
    "        )\n",
    "        # Add label for Austria\n",
    "        ax.text(\n",
    "            austria_data['Wind Speed'].values[0] + 0.1,\n",
    "            austria_data['Wind (% sub energy)'].values[0],\n",
    "            'Austria', color='red', fontsize=8, weight='bold'\n",
    "        )\n",
    "    # Add European average\n",
    "    avg_data = european_averages[european_averages['Year'] == year]\n",
    "    if not avg_data.empty:\n",
    "        ax.scatter(\n",
    "            avg_data['Wind Speed'], avg_data['Wind (% sub energy)'],\n",
    "            color='black', s=150, marker='x', zorder=6  # Highlight European average\n",
    "        )\n",
    "        # Add label for European average\n",
    "        ax.text(\n",
    "            avg_data['Wind Speed'].values[0] + 0.1,\n",
    "            avg_data['Wind (% sub energy)'].values[0],\n",
    "            'Europe Avg', color='black', fontsize=8, weight='bold'\n",
    "        )\n",
    "\n",
    "g.fig.subplots_adjust(top=0.9)\n",
    "g.fig.suptitle('Dependency Between Wind Speed and Wind (% sub energy) by Year', fontsize=16)\n",
    "plt.show()\n",
    "\n",
    "# Scatter plot for solar radiation vs. solar contribution\n",
    "g = sns.relplot(\n",
    "    data=combined_data,\n",
    "    x='Solar Radiation',\n",
    "    y='Solar (% sub energy)',\n",
    "    col='Year',\n",
    "    kind='scatter',\n",
    "    col_wrap=4,\n",
    "    height=4,\n",
    "    alpha=0.6,\n",
    "    hue='Country',\n",
    "    palette='tab20',\n",
    "    legend='brief'  # Automatic legend for countries\n",
    ")\n",
    "\n",
    "# Highlight Austria and add European averages with labels\n",
    "for ax, year in zip(g.axes.flat, combined_data['Year'].unique()):\n",
    "    # Highlight Austria\n",
    "    austria_data = combined_data[(combined_data['Country'] == 'Austria') & (combined_data['Year'] == year)]\n",
    "    if not austria_data.empty:\n",
    "        ax.scatter(\n",
    "            austria_data['Solar Radiation'], austria_data['Solar (% sub energy)'],\n",
    "            color='red', s=150, edgecolor='black', zorder=5  # Highlight Austria\n",
    "        )\n",
    "        # Add label for Austria\n",
    "        ax.text(\n",
    "            austria_data['Solar Radiation'].values[0] + 0.1,\n",
    "            austria_data['Solar (% sub energy)'].values[0],\n",
    "            'Austria', color='red', fontsize=8, weight='bold'\n",
    "        )\n",
    "    # Add European average\n",
    "    avg_data = european_averages[european_averages['Year'] == year]\n",
    "    if not avg_data.empty:\n",
    "        ax.scatter(\n",
    "            avg_data['Solar Radiation'], avg_data['Solar (% sub energy)'],\n",
    "            color='black', s=150, marker='x', zorder=6  # Highlight European average\n",
    "        )\n",
    "        # Add label for European average\n",
    "        ax.text(\n",
    "            avg_data['Solar Radiation'].values[0] + 0.1,\n",
    "            avg_data['Solar (% sub energy)'].values[0],\n",
    "            'Europe Avg', color='black', fontsize=8, weight='bold'\n",
    "        )\n",
    "\n",
    "g.fig.subplots_adjust(top=0.9)\n",
    "g.fig.suptitle('Dependency Between Solar Radiation and Solar (% sub energy) by Year', fontsize=16)\n",
    "plt.show()\n"
   ]
  }
 ],
 "metadata": {
  "kernelspec": {
   "display_name": "Python 3",
   "language": "python",
   "name": "python3"
  },
  "language_info": {
   "codemirror_mode": {
    "name": "ipython",
    "version": 3
   },
   "file_extension": ".py",
   "mimetype": "text/x-python",
   "name": "python",
   "nbconvert_exporter": "python",
   "pygments_lexer": "ipython3",
   "version": "3.13.1"
  }
 },
 "nbformat": 4,
 "nbformat_minor": 2
}
