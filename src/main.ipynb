{
 "cells": [
  {
   "metadata": {
    "id": "fZcVlJG2VGiL"
   },
   "cell_type": "markdown",
   "source": [
    "# Introduction\n",
    "## What we are trying to accomplish\n",
    "In general we are trying to provide answers to the following questions:\n",
    "- How is the adoption of renewable energy in Europe evolving?\n",
    "- How is the adoption of different types of renewable energy evolving?\n",
    "- Are there characteristics of countries that correlate with their level of adoption of renewable energy?\n",
    "\n",
    "### Main Questions\n",
    "As these questions are defined very broadly and can be answered in a variety of ways, we decided to formulate the following more discreet questions, focusing on the production and consumption of renewable energy in europe:\n",
    "- How has the adoption of renewable energy in Europe developed over time?\n",
    "- Which types of renewable energy have been predominantly adopted?\n",
    "\n",
    "### Sub Questions\n",
    "- How do economic factors like GDP influence the adoption of renewable energy?\n",
    "- How does austria compare to the european average?\n",
    "\n",
    "\n",
    "## Data Description\n",
    "We are using the dataset from [Kaggle](https://www.kaggle.com/datasets/programmerrdai/renewable-energy/data). The general description can be found at the original [ourworldindata.org](https://ourworldindata.org/grapher/installed-solar-pv-capacity#:~:text=IRENA%20%E2%80%93%20Renewable%20Capacity-,Statistics) data source.\n",
    "**Absolute Values:** Absolute measurements are represented in megawatts (MW) rounded to the nearest one megawatt, with figures between zero and 0.5MW shown as a 0.\n",
    "**Shares:** Shares are represented as percentages\n",
    "\n",
    "## Exploring the data\n",
    "### Main data sources\n",
    "Load all required packages and modules"
   ]
  },
  {
   "metadata": {
    "id": "AMjEH_4uVGiN"
   },
   "cell_type": "code",
   "source": [
    "import glob\n",
    "import os\n",
    "import pickle\n",
    "import re\n",
    "import pandas as pd\n",
    "import matplotlib.pyplot as plt\n",
    "import seaborn as sns\n",
    "from sklearn.ensemble import RandomForestRegressor\n",
    "from sklearn.model_selection import train_test_split, GridSearchCV\n",
    "from sklearn.metrics import mean_squared_error\n",
    "from sklearn.preprocessing import StandardScaler"
   ],
   "outputs": [],
   "execution_count": null
  },
  {
   "metadata": {
    "id": "LHNeII9mVGiN"
   },
   "cell_type": "markdown",
   "source": [
    "The dataset contains a wide range of data from different countries and time ranges. In this exercise we chose to only consider **european** countries and compare them to the overall european and global trends. We take the **years (1990-2020)** into consideration to answer our questions."
   ]
  },
  {
   "metadata": {
    "id": "nQpTxLskVGiN"
   },
   "cell_type": "code",
   "source": [
    "# ISO codes for European countries\n",
    "country_codes_main_data = (\n",
    "    'AUT', 'BEL', 'BGR', 'HRV', 'CYP', 'CZE', 'DNK', 'EST', 'FIN', 'FRA',\n",
    "    'DEU', 'GRC', 'HUN', 'ISL', 'IRL', 'ITA', 'LVA', 'LTU', 'LUX', 'MLT',\n",
    "    'NLD', 'NOR', 'POL', 'PRT', 'ROU', 'SVK', 'SVN', 'ESP', 'SWE', 'CHE', 'GBR')\n",
    "entities = ('Europe', 'World')\n",
    "time_window = (1980, 2020)"
   ],
   "outputs": [],
   "execution_count": null
  },
  {
   "metadata": {
    "id": "t9QbJbfKVGiO"
   },
   "cell_type": "markdown",
   "source": [
    "We clean the data by:\n",
    "- Removing all non-European countries\n",
    "- Only consider our targeted time window (1990-2020)"
   ]
  },
  {
   "metadata": {
    "id": "_UB8YJ_FVGiO"
   },
   "cell_type": "code",
   "source": [
    "def clean_df(df: pd.DataFrame) -> pd.DataFrame:\n",
    "    # Only Use European Countries & Europe/World accumulated data\n",
    "    df = df[(df['Code'].isin(country_codes_main_data)) | (df['Entity'].isin(entities))]\n",
    "\n",
    "    if 'Year' in df.columns:\n",
    "        df.loc[:, 'Year'] = pd.to_numeric(df['Year'], errors='coerce')\n",
    "        df = df[(df['Year'] >= time_window[0]) & (df['Year'] <= time_window[1])]\n",
    "\n",
    "\n",
    "    # Remove 'Code' Column, as it is redundant\n",
    "    df.drop(columns=['Code'], inplace=True)\n",
    "\n",
    "    df.reset_index(drop=True, inplace=True)\n",
    "\n",
    "    return df"
   ],
   "outputs": [],
   "execution_count": null
  },
  {
   "metadata": {
    "id": "B__wfkeCVGiO"
   },
   "cell_type": "markdown",
   "source": [
    "Put it all together and read and clean the dataframes:"
   ]
  },
  {
   "metadata": {
    "id": "-KqFjNuRVGiO"
   },
   "cell_type": "code",
   "source": [
    "def read_and_clean_csv(file) -> pd.DataFrame:\n",
    "    df = pd.read_csv(file)\n",
    "    df = clean_df(df)\n",
    "    return df\n",
    "\n",
    "folder_path_main_data = os.path.join('..', 'data')\n",
    "csv_files = glob.glob(os.path.join(folder_path_main_data, '*.csv'))\n",
    "\n",
    "dataframes = {os.path.basename(file).split('.')[0]: read_and_clean_csv(file) for file in csv_files}"
   ],
   "outputs": [],
   "execution_count": null
  },
  {
   "metadata": {
    "id": "ZT1m9ZRkVGiO"
   },
   "cell_type": "markdown",
   "source": [
    "#### Merge semantically relevant dataframes\n",
    "Now we merge dataframes that contain semantically relevant data into one. These are:\n",
    "- `share_energy:` merged from `hydro-share-energy`,`solar-share-energy`,`wind-share-energy`,`renewable-share-energy`\n",
    "- `share_electricity:` merged from `share-electricity-hydro`,`share-electricity-solar`,`share-electricity-solar`,`share-electricity-wind`,`share-electricity-renewables`\n",
    "- `energy_consumption_electricity_production:` merged from `modern-renewable-prod`, `modern-renewable-energy-consumption`\n",
    "\n"
   ]
  },
  {
   "metadata": {},
   "cell_type": "code",
   "source": [
    "def merge_share_dfs(dfs: dict[str: pd.DataFrame], sub_str: str) -> pd.DataFrame:\n",
    "    relevant_keys = [key for key in dfs.keys() if sub_str in key]\n",
    "    filtered_dfs = dfs[relevant_keys[0]]\n",
    "    for key in relevant_keys[1:]:\n",
    "        filtered_dfs = filtered_dfs.merge(\n",
    "            dfs[key],\n",
    "            on=['Entity', 'Year'],\n",
    "            how='outer'\n",
    "        )\n",
    "    return filtered_dfs\n",
    "\n",
    "def merge_production_consumption(df1: pd.DataFrame, df2: pd.DataFrame) -> pd.DataFrame:\n",
    "    df = pd.merge(df1, df2,\n",
    "                  on=['Entity', 'Year'],\n",
    "                  how='outer'\n",
    "                  )\n",
    "    return df"
   ],
   "outputs": [],
   "execution_count": null
  },
  {
   "metadata": {},
   "cell_type": "markdown",
   "source": "Let's start off by merging the overall share percentages."
  },
  {
   "metadata": {},
   "cell_type": "code",
   "source": [
    "share_energy_long = merge_share_dfs(dataframes, 'share-energy')\n",
    "share_electricity_long = merge_share_dfs(dataframes, 'share-electricity')\n",
    "installed_capacity_long = merge_share_dfs(dataframes, 'capacity')"
   ],
   "outputs": [],
   "execution_count": null
  },
  {
   "metadata": {},
   "cell_type": "markdown",
   "source": "Add new columns based on already existing data."
  },
  {
   "metadata": {},
   "cell_type": "code",
   "source": [
    "share_energy_long['Other Renewables (% sub energy)'] = share_energy_long['Renewables (% sub energy)'] - ((share_energy_long['Solar (% sub energy)']) + (share_energy_long['Hydro (% sub energy)']) + (share_energy_long['Wind (% sub energy)']))\n",
    "share_electricity_long['Other Renewables (% electricity)'] = share_electricity_long['Renewables (% electricity)'] - ((share_electricity_long['Solar (% electricity)']) + (share_electricity_long['Hydro (% electricity)']) + (share_electricity_long['Wind (% electricity)']))\n",
    "\n",
    "installed_capacity_long['Total Capacity'] = installed_capacity_long['Wind Capacity'].fillna(0) + installed_capacity_long['Geothermal Capacity'].fillna(0) + installed_capacity_long['Solar Capacity'].fillna(0)"
   ],
   "outputs": [],
   "execution_count": null
  },
  {
   "metadata": {},
   "cell_type": "markdown",
   "source": "Now let's finish by merging the absolute values for production/consumption."
  },
  {
   "metadata": {
    "id": "RuQTP59lVGiP"
   },
   "cell_type": "code",
   "source": [
    "electricity_production_long = dataframes['modern-renewable-prod']\n",
    "electricity_production_long = electricity_production_long.rename(columns=\n",
    "                                                       {\n",
    "                                                           'Electricity from wind (TWh)': 'Electricity production wind (TWh)',\n",
    "                                                           'Electricity from hydro (TWh)': 'Electricity production hydro (TWh)',\n",
    "                                                           'Electricity from solar (TWh)': 'Electricity production solar (TWh)',\n",
    "                                                           'Electricity from other renewables including bioenergy (TWh)': 'Electricity production other renewables including bioenergy (TWh)'\n",
    "                                                        })\n",
    "\n",
    "energy_consumption_long = dataframes['modern-renewable-energy-consumption']\n",
    "energy_consumption_long = energy_consumption_long.rename(columns=\n",
    "                                                       {\n",
    "                                                           'Wind Generation - TWh': 'Wind consumption (TWh)',\n",
    "                                                           'Solar Generation - TWh': 'Solar consumption (TWh)',\n",
    "                                                           'Geo Biomass Other - TWh': 'Other renewable consumption (TWh)',\n",
    "                                                           'Hydro Generation - TWh': 'Hydro consumption (TWh)',\n",
    "                                                        })\n",
    "\n",
    "energy_consumption_electricity_production_long = merge_production_consumption(energy_consumption_long, electricity_production_long)"
   ],
   "outputs": [],
   "execution_count": null
  },
  {
   "metadata": {
    "id": "PEHhhvvjVGiP"
   },
   "cell_type": "markdown",
   "source": [
    "#### Multi-Index\n",
    "These newly merged frames can now be converted from a long format to a wide multi-index dataformat."
   ]
  },
  {
   "metadata": {
    "id": "_HtAyZiFVGiP"
   },
   "cell_type": "code",
   "source": [
    "share_energy = share_energy_long.set_index(['Entity', 'Year'])\n",
    "share_electricity = share_electricity_long.set_index(['Entity','Year'])\n",
    "installed_capacity = installed_capacity_long.set_index(['Entity', 'Year'])\n",
    "energy_consumption_electricity_production = energy_consumption_electricity_production_long.set_index(['Entity', 'Year'])"
   ],
   "outputs": [],
   "execution_count": null
  },
  {
   "metadata": {},
   "cell_type": "markdown",
   "source": [
    "### Secondary Data Sources\n",
    "In order to make reasonable assumptions, we include some additional external data sources for:\n",
    "- GDP per capita (USD)\n",
    "- Electricity Prices (EUR/kWh)\n",
    "\n"
   ]
  },
  {
   "metadata": {},
   "cell_type": "code",
   "source": "folder_path_secondary_data = os.path.join('..', 'secondary-data')",
   "outputs": [],
   "execution_count": null
  },
  {
   "metadata": {},
   "cell_type": "markdown",
   "source": "Let's start with the GDP per capita."
  },
  {
   "metadata": {},
   "cell_type": "code",
   "source": [
    "def melt_gdp_year_columns(df: pd.DataFrame) -> pd.DataFrame:\n",
    "    df_melted = df.melt(\n",
    "        id_vars=[\"Entity\", \"Code\"],  # Keep these columns as they are\n",
    "        var_name=\"Year\",                   # New column name for years\n",
    "        value_name=\"GDP per capita (USD)\"                 # New column name for values\n",
    "    )\n",
    "\n",
    "    # Convert the 'Year' column to numeric, ignoring non-numeric entries\n",
    "    df_melted[\"Year\"] = pd.to_numeric(df_melted[\"Year\"], errors=\"coerce\")\n",
    "\n",
    "    # Drop rows where 'Year' or 'Value' is NaN\n",
    "    df_melted = df_melted.dropna(subset=[\"Year\", \"GDP per capita (USD)\"]).reset_index(drop=True)\n",
    "\n",
    "    df_melted[\"Year\"] = df_melted[\"Year\"].astype(int)\n",
    "\n",
    "    return df_melted"
   ],
   "outputs": [],
   "execution_count": null
  },
  {
   "metadata": {},
   "cell_type": "code",
   "source": [
    "# GDP per capita (USD)\n",
    "gdp_per_capita_csv_file = os.path.join(folder_path_secondary_data, 'gdp_per_capita.csv')\n",
    "gdp_per_capita_original = pd.read_csv(gdp_per_capita_csv_file)\n",
    "gdp_per_capita_long = melt_gdp_year_columns(gdp_per_capita_original)\n",
    "gdp_per_capita_long = clean_df(gdp_per_capita_long)"
   ],
   "outputs": [],
   "execution_count": null
  },
  {
   "metadata": {},
   "cell_type": "markdown",
   "source": "Now we take a look at the electricity prices. Because this is an external dataset, we cannot simply use the same time frame we have set for our primary data. This dataset only contains values from 2007 onward."
  },
  {
   "metadata": {},
   "cell_type": "code",
   "source": [
    "country_code_to_name_electricity_price_data = {\n",
    "    'AT': 'Austria', 'BE': 'Belgium', 'BG': 'Bulgaria', 'HR': 'Croatia',\n",
    "    'CY': 'Cyprus', 'CZ': 'Czechia', 'DK': 'Denmark', 'EE': 'Estonia',\n",
    "    'FI': 'Finland', 'FR': 'France', 'DE': 'Germany', 'EL': 'Greece',\n",
    "    'HU': 'Hungary', 'IS': 'Iceland', 'IE': 'Ireland', 'IT': 'Italy',\n",
    "    'LV': 'Latvia', 'LT': 'Lithuania', 'LU': 'Luxembourg', 'NL': 'Netherlands',\n",
    "    'NO': 'Norway', 'PL': 'Poland', 'PT': 'Portugal', 'RO': 'Romania',\n",
    "    'SK': 'Slovakia', 'SI': 'Slovenia', 'ES': 'Spain', 'SE': 'Sweden',\n",
    "    'CH': 'Switzerland', 'UK': 'United Kingdom'\n",
    "}\n",
    "\n",
    "# TODO check if we should just cut off at year 2020\n",
    "time_window_electricity_price = (2007, 2025)\n",
    "\n",
    "# Filter for the selected countries\n",
    "selected_country_codes = set(country_code_to_name_electricity_price_data.keys())"
   ],
   "outputs": [],
   "execution_count": null
  },
  {
   "metadata": {},
   "cell_type": "code",
   "source": [
    "def clean_numeric_values(val):\n",
    "    \"\"\"\n",
    "    Function ensures numeric conversion for time columns\n",
    "    :param val:\n",
    "    :return:\n",
    "    \"\"\"\n",
    "    if isinstance(val, str):\n",
    "        return re.sub(r'[^\\d.-]', '', val.strip())  # Remove non-numeric characters and strip spaces\n",
    "    return val\n",
    "\n",
    "def clean_electricity_price_df(df: pd.DataFrame) -> pd.DataFrame:\n",
    "    # Strip whitespace from column names\n",
    "    df.columns = [col.strip() for col in df.columns]\n",
    "\n",
    "    # Extract the first column name dynamically\n",
    "    first_column_name = df.columns[0]\n",
    "\n",
    "    # Extract the country code from the first column\n",
    "    df['Entity'] = df[first_column_name].str.split(',').str[-1].str.strip()\n",
    "    df.drop(columns=[first_column_name], inplace=True)\n",
    "\n",
    "    # Identify time-based columns (e.g., 2007-S1)\n",
    "    time_columns = [col for col in df.columns if re.match(r'\\d{4}-S\\d', col)]\n",
    "\n",
    "    # Clean time columns and convert to numeric\n",
    "    #df[time_columns] = df[time_columns].applymap(clean_numeric_values).apply(pd.to_numeric, errors='coerce')\n",
    "    # Assuming time_columns is a list of columns to clean\n",
    "    df[time_columns] = df[time_columns].apply(lambda col: col.map(clean_numeric_values).apply(pd.to_numeric, errors='coerce'))\n",
    "\n",
    "\n",
    "    # Deduplicate by country code\n",
    "    df = df.drop_duplicates(subset=['Entity'])\n",
    "\n",
    "    filtered_data = df[df['Entity'].isin(selected_country_codes)]\n",
    "\n",
    "    return filtered_data\n",
    "\n",
    "def convert_electricity_price_to_annual_means(df: pd.DataFrame) -> pd.DataFrame:\n",
    "    # Calculate annual means (average of S1-S4 per year)\n",
    "    annual_means = {}\n",
    "    for year in range(time_window_electricity_price[0], time_window_electricity_price[1]):\n",
    "        semesters = [f\"{year}-S{semester}\" for semester in range(1, 5)]\n",
    "        available_semesters = [sem for sem in semesters if sem in df.columns]\n",
    "        if available_semesters:\n",
    "            annual_means[year] = df[available_semesters].mean(axis=1, skipna=True)\n",
    "\n",
    "    # Create a DataFrame for annual means\n",
    "    annual_means_df = pd.DataFrame(annual_means)\n",
    "    annual_means_df.index = df['Entity']\n",
    "\n",
    "    return annual_means_df\n",
    "\n",
    "def read_clean_convert_electricity_prices(file_path: str) -> pd.DataFrame:\n",
    "    df = pd.read_csv(file_path, sep='\\t')\n",
    "    df = clean_electricity_price_df(df)\n",
    "    df = convert_electricity_price_to_annual_means(df)\n",
    "    return df\n"
   ],
   "outputs": [],
   "execution_count": null
  },
  {
   "metadata": {},
   "cell_type": "code",
   "source": [
    "household_electricity_csv_file = os.path.join(folder_path_secondary_data, 'estat_nrg_pc_204.tsv')\n",
    "non_household_electricity_csv_file = os.path.join(folder_path_secondary_data, 'estat_nrg_pc_205.tsv')\n",
    "\n",
    "household_electricity = read_clean_convert_electricity_prices(household_electricity_csv_file)\n",
    "non_household_electricity = read_clean_convert_electricity_prices(non_household_electricity_csv_file)\n",
    "\n",
    "# Align both DataFrames by their indices (countries) and columns (years)\n",
    "combined_data = (household_electricity + non_household_electricity) / 2\n",
    "\n",
    "# Map country codes to their full names for better visualization\n",
    "combined_data.index = combined_data.index.map(\n",
    "    {k: v for k, v in country_code_to_name_electricity_price_data.items()}\n",
    ")"
   ],
   "outputs": [],
   "execution_count": null
  },
  {
   "metadata": {},
   "cell_type": "code",
   "source": [
    "def melt_electricity_price_year_column(df: pd.DataFrame) -> pd.DataFrame:\n",
    "    df_melted = df.reset_index()\n",
    "    df_melted = df_melted.melt(\n",
    "        id_vars=[\"Entity\"],  # Keep these columns as they are\n",
    "        var_name=\"Year\",                   # New column name for years\n",
    "        value_name=\"electricity price per kWh\"                 # New column name for values\n",
    "    )\n",
    "\n",
    "    # Convert the 'Year' column to numeric, ignoring non-numeric entries\n",
    "    df_melted[\"Year\"] = pd.to_numeric(df_melted[\"Year\"], errors=\"coerce\")\n",
    "\n",
    "    # Drop rows where 'Year' or 'Value' is NaN\n",
    "    df_melted = df_melted.dropna(subset=[\"Year\", \"electricity price per kWh\"]).reset_index(drop=True)\n",
    "\n",
    "    df_melted[\"Year\"] = df_melted[\"Year\"].astype(int)\n",
    "\n",
    "    return df_melted"
   ],
   "outputs": [],
   "execution_count": null
  },
  {
   "metadata": {},
   "cell_type": "code",
   "source": "electricity_price_data_long = melt_electricity_price_year_column(combined_data)",
   "outputs": [],
   "execution_count": null
  },
  {
   "metadata": {},
   "cell_type": "markdown",
   "source": "#### Multi-Index"
  },
  {
   "metadata": {},
   "cell_type": "code",
   "source": [
    "gdp_per_capita = gdp_per_capita_long.set_index(['Entity', 'Year']).sort_index()\n",
    "electricity_price_data = electricity_price_data_long.set_index(['Entity', 'Year']).sort_index()"
   ],
   "outputs": [],
   "execution_count": null
  },
  {
   "metadata": {
    "id": "3HziWGOuVGiQ"
   },
   "cell_type": "markdown",
   "source": [
    "### Noticing Trends\n",
    "Now let's create some plots in order to better observe certain trends"
   ]
  },
  {
   "metadata": {
    "id": "CDBh46MhVGiQ"
   },
   "cell_type": "code",
   "source": [
    "data_filtered = share_energy.loc[:]\n",
    "\n",
    "# Reset index to make Year a column for plotting\n",
    "data_filtered = data_filtered.reset_index()\n",
    "\n",
    "# Define standout countries\n",
    "standout_countries = ['Austria', 'Europe', 'World']\n",
    "\n",
    "# Create a custom color palette\n",
    "palette = {country: 'black' for country in data_filtered['Entity'].unique()}\n",
    "palette.update({\n",
    "    'Austria': 'red',\n",
    "    'Europe': 'blue',\n",
    "    'World': 'green'\n",
    "})\n",
    "\n",
    "# Plot\n",
    "plt.figure(figsize=(20, 10))\n",
    "\n",
    "# Plot all countries with lighter lines\n",
    "sns.lineplot(\n",
    "    data=data_filtered[~data_filtered['Entity'].isin(standout_countries)],\n",
    "    x='Year', y='Renewables (% sub energy)',\n",
    "    hue='Entity', palette=palette, alpha=0.4, linewidth=1\n",
    ")\n",
    "\n",
    "# Plot standout countries with distinctive styles\n",
    "sns.lineplot(\n",
    "    data=data_filtered[data_filtered['Entity'].isin(standout_countries)],\n",
    "    x='Year', y='Renewables (% sub energy)',\n",
    "    hue='Entity', palette=palette, linewidth=2.5\n",
    ")\n",
    "\n",
    "# Add titles and labels\n",
    "plt.title('Renewable Energy Usage Over Time', fontsize=18)\n",
    "plt.ylabel('% of Energy from Renewables', fontsize=12)\n",
    "plt.xlabel('Year', fontsize=14)\n",
    "plt.legend(title='Country', fontsize=12, title_fontsize=14)\n",
    "plt.grid(True)\n",
    "\n",
    "# Highlight lines with direct annotations\n",
    "for country in standout_countries:\n",
    "    country_data = data_filtered[data_filtered['Entity'] == country]\n",
    "    plt.text(\n",
    "        country_data['Year'].iloc[-1],\n",
    "        country_data['Renewables (% sub energy)'].iloc[-1],\n",
    "        country,\n",
    "        color=palette[country], fontsize=12, weight='bold'\n",
    "    )\n",
    "\n",
    "plt.show()"
   ],
   "outputs": [],
   "execution_count": null
  },
  {
   "metadata": {
    "id": "Z1bKKxivVGiQ"
   },
   "cell_type": "code",
   "source": [
    "# Select data for Austria\n",
    "country_austria = 'Austria'\n",
    "data_austria = share_energy.loc[country_austria].reset_index()\n",
    "\n",
    "# Select data for Europe\n",
    "country_europe = 'Europe'\n",
    "data_europe = share_energy.loc[country_europe].reset_index()\n",
    "\n",
    "# Create a figure with two subplots\n",
    "fig, axes = plt.subplots(1, 2, figsize=(20, 6), sharey=True)\n",
    "\n",
    "# Plot for Austria\n",
    "axes[0].stackplot(\n",
    "    data_austria['Year'],\n",
    "    data_austria['Hydro (% sub energy)'],\n",
    "    data_austria['Solar (% sub energy)'],\n",
    "    data_austria['Wind (% sub energy)'],\n",
    "    labels=['Hydro', 'Solar', 'Wind'],\n",
    "    alpha=0.8\n",
    ")\n",
    "axes[0].set_title(f'Renewable Energy Sources Contribution Over Time - {country_austria}', fontsize=14)\n",
    "axes[0].set_xlabel('Year', fontsize=12)\n",
    "axes[0].set_ylabel('% of Energy', fontsize=12)\n",
    "axes[0].legend(loc='upper left')\n",
    "axes[0].grid(True)\n",
    "\n",
    "# Plot for Europe\n",
    "axes[1].stackplot(\n",
    "    data_europe['Year'],\n",
    "    data_europe['Hydro (% sub energy)'],\n",
    "    data_europe['Solar (% sub energy)'],\n",
    "    data_europe['Wind (% sub energy)'],\n",
    "    labels=['Hydro', 'Solar', 'Wind'],\n",
    "    alpha=0.8\n",
    ")\n",
    "axes[1].set_title(f'Renewable Energy Sources Contribution Over Time - {country_europe}', fontsize=14)\n",
    "axes[1].set_xlabel('Year', fontsize=12)\n",
    "axes[1].grid(True)\n",
    "\n",
    "# Adjust layout\n",
    "plt.suptitle('Comparison of Renewable Energy Sources: Austria vs Europe', fontsize=16)\n",
    "plt.tight_layout(rect=(0, 0, 1, 0.95))\n",
    "plt.show()"
   ],
   "outputs": [],
   "execution_count": null
  },
  {
   "metadata": {
    "id": "QwnFj_U_VGiQ"
   },
   "cell_type": "markdown",
   "source": [
    "Even though we only have specific data for Hydro, Solar and Wing generation, there other renewable ways of generating energy. To show how much data we are missing on other renewable energy types, we plotted the most recent (2020) energy usage."
   ]
  },
  {
   "metadata": {
    "id": "I9ynhA1LVGiQ"
   },
   "cell_type": "code",
   "source": [
    "# Filter the data for the year 2020\n",
    "data_2020 = share_energy.xs(key=2020, level='Year')\n",
    "\n",
    "# Sort by total renewables for better visualization\n",
    "data_2020 = data_2020.sort_values(by='Renewables (% sub energy)', ascending=False)\n",
    "\n",
    "# Create a stacked bar plot\n",
    "plt.figure(figsize=(14, 10))\n",
    "\n",
    "# Plot the total renewable energy as a separate bar beforehand\n",
    "# This makes it show up as the other types of renewable energy that we are missing (e.g. not in hydro, wind, solar)\n",
    "plt.barh(data_2020.index.get_level_values('Entity'), data_2020['Renewables (% sub energy)'], label='Other Renewables', color='gray', alpha=0.5)\n",
    "\n",
    "# Plot the stacked bars for Hydro, Solar, and Wind\n",
    "plt.barh(data_2020.index.get_level_values('Entity'), data_2020['Hydro (% sub energy)'], label='Hydro', color='blue')\n",
    "plt.barh(\n",
    "    data_2020.index.get_level_values('Entity'),\n",
    "    data_2020['Solar (% sub energy)'],\n",
    "    left=data_2020['Hydro (% sub energy)'],\n",
    "    label='Solar',\n",
    "    color='orange'\n",
    ")\n",
    "plt.barh(\n",
    "    data_2020.index.get_level_values('Entity'),\n",
    "    data_2020['Wind (% sub energy)'],\n",
    "    left=data_2020['Hydro (% sub energy)'] + data_2020['Solar (% sub energy)'],\n",
    "    label='Wind',\n",
    "    color='green'\n",
    ")\n",
    "\n",
    "# Add labels and title\n",
    "plt.title('Overview of Renewable Energy Usage by Country in 2020', fontsize=16)\n",
    "plt.xlabel('% of Total Energy', fontsize=12)\n",
    "plt.ylabel('Country', fontsize=12)\n",
    "plt.legend(title='Energy Source', fontsize=12, title_fontsize=14)\n",
    "plt.grid(axis='x', linestyle='--', alpha=0.7)\n",
    "\n",
    "# Show plot\n",
    "plt.tight_layout()\n",
    "plt.show()"
   ],
   "outputs": [],
   "execution_count": null
  },
  {
   "metadata": {
    "id": "YJ8oBOspVGiR"
   },
   "cell_type": "markdown",
   "source": [
    "## Which types of renewable energy have been predominantly adopted?\n",
    "Plot how the percentage of renewable energy from different sources (Hydro, Solar, Wind, and Other Renewables) has changed globally, to get an overall view."
   ]
  },
  {
   "metadata": {
    "id": "wcDwIGhFVGiR"
   },
   "cell_type": "code",
   "source": [
    "# Filter for global data (use 'World' as the entity)\n",
    "share_energy_europe = share_energy.xs(key='Europe', level='Entity')\n",
    "\n",
    "# TODO replace with seaborn\n",
    "# Plot trends in renewable energy types (Hydro, Solar, Wind, Other Renewables) globally\n",
    "plt.figure(figsize=(14, 8))\n",
    "plt.plot(share_energy_europe.index.get_level_values('Year'), share_energy_europe['Hydro (% sub energy)'], label='Hydro', color='blue')\n",
    "plt.plot(share_energy_europe.index.get_level_values('Year'), share_energy_europe['Solar (% sub energy)'], label='Solar', color='orange')\n",
    "plt.plot(share_energy_europe.index.get_level_values('Year'), share_energy_europe['Wind (% sub energy)'], label='Wind', color='green')\n",
    "plt.plot(share_energy_europe.index.get_level_values('Year'), share_energy_europe['Other Renewables (% sub energy)'], label='Other Renewables', color='purple')\n",
    "\n",
    "plt.title('European Trends in Renewable Energy Adoption (1990-2020)', fontsize=16)\n",
    "plt.xlabel('Year', fontsize=12)\n",
    "plt.ylabel('% of Total Energy', fontsize=12)\n",
    "plt.legend(title='Energy Type', fontsize=12)\n",
    "plt.grid(True)\n",
    "plt.tight_layout()\n",
    "plt.show()"
   ],
   "outputs": [],
   "execution_count": null
  },
  {
   "metadata": {
    "id": "yvY2idyYVGiR"
   },
   "cell_type": "markdown",
   "source": [
    "Determine the dominant renewable energy source by calculating the mean share for each source over time"
   ]
  },
  {
   "metadata": {
    "id": "W6k5vtwFVGiR"
   },
   "cell_type": "code",
   "source": [
    "# Calculate the average percentage of each renewable energy type globally over time\n",
    "mean_renewables = share_energy_europe[['Hydro (% sub energy)', 'Solar (% sub energy)', 'Wind (% sub energy)', 'Other Renewables (% sub energy)']].mean()\n",
    "\n",
    "# Sort to identify the most dominant energy type\n",
    "mean_renewables_sorted = mean_renewables.sort_values(ascending=False)\n",
    "\n",
    "# Print the result\n",
    "print(f\"Most Predominantly Adopted Renewable Energy Types (Mean over Time):\\n{mean_renewables_sorted}\")"
   ],
   "outputs": [],
   "execution_count": null
  },
  {
   "metadata": {
    "id": "R-cDksx1VGiR"
   },
   "cell_type": "markdown",
   "source": [
    "Another interesting analysis is to see which year had the highest adoption of each energy source."
   ]
  },
  {
   "metadata": {
    "id": "gxk1OtGIVGiR"
   },
   "cell_type": "code",
   "source": [
    "# Find the year with the highest percentage for each renewable energy type globally\n",
    "max_renewables_year = share_energy_europe[['Hydro (% sub energy)', 'Solar (% sub energy)', 'Wind (% sub energy)', 'Other Renewables (% sub energy)']].idxmax()\n",
    "\n",
    "# Print the results\n",
    "print(f\"Year with the highest adoption of each renewable energy type:\\n{max_renewables_year}\")"
   ],
   "outputs": [],
   "execution_count": null
  },
  {
   "metadata": {
    "id": "-chmvbZUVGiR"
   },
   "cell_type": "markdown",
   "source": [
    "#### Renewable Energy capacity"
   ]
  },
  {
   "metadata": {
    "id": "V1pO1_ELVGiS"
   },
   "cell_type": "code",
   "source": [
    "installed_capacity_2020 = installed_capacity.xs(key=2020, level='Year')\n",
    "# Exclude non-country entities:\n",
    "installed_capacity_2020_countries_only = installed_capacity_2020[~installed_capacity_2020.index.get_level_values(\"Entity\").isin([\"World\", \"Europe\"])].copy()\n",
    "installed_capacity_2020_countries_only[\"Solar+Wind Capacity\"] = (\n",
    "    installed_capacity_2020_countries_only[\"Wind Capacity\"].fillna(0) +\n",
    "    installed_capacity_2020_countries_only[\"Solar Capacity\"].fillna(0)\n",
    ")\n",
    "\n",
    "# Identify the entity with the maximum total capacity\n",
    "max_entity = installed_capacity_2020_countries_only[\"Solar+Wind Capacity\"].idxmax()\n",
    "max_capacity = installed_capacity_2020_countries_only.loc[max_entity]\n",
    "\n",
    "installed_capacity_2020_countries_only_reset = installed_capacity_2020_countries_only.reset_index()\n",
    "\n",
    "plt.figure(figsize=(14, 8))\n",
    "sns.scatterplot(\n",
    "    data=installed_capacity_2020_countries_only_reset,\n",
    "    x=\"Wind Capacity\",\n",
    "    y=\"Solar Capacity\",\n",
    "    s=100,\n",
    "    label=\"Data Points\",\n",
    ")\n",
    "\n",
    "sns.regplot(\n",
    "    data=installed_capacity_2020_countries_only_reset,\n",
    "    x=\"Wind Capacity\",\n",
    "    y=\"Solar Capacity\",\n",
    "    scatter=False,\n",
    "    color=\"red\",\n",
    "    label=\"Trend-line\",\n",
    "    line_kws={\"linestyle\": \"--\"},\n",
    ")\n",
    "\n",
    "# Highlight the point with the highest capacity\n",
    "sns.scatterplot(\n",
    "    x=[max_capacity[\"Wind Capacity\"]],\n",
    "    y=[max_capacity[\"Solar Capacity\"]],\n",
    "    color=\"red\",\n",
    "    s=200,\n",
    "    label=f\"Max Capacity: {max_entity} ({max_capacity['Total Capacity']:.1f} MW)\",\n",
    ")\n",
    "\n",
    "plt.title(\"Wind Capacity vs Solar Capacity (MW)\", fontsize=14)\n",
    "plt.xlabel(\"Wind Capacity (MW)\", fontsize=12)\n",
    "plt.ylabel(\"Solar Capacity (MW)\", fontsize=12)\n",
    "plt.grid(True, linestyle=\"--\", alpha=0.5)\n",
    "plt.tight_layout()\n",
    "plt.show()"
   ],
   "outputs": [],
   "execution_count": null
  },
  {
   "metadata": {},
   "cell_type": "markdown",
   "source": ""
  },
  {
   "metadata": {},
   "cell_type": "code",
   "source": [
    "electricity_price_data_reset = electricity_price_data.reset_index()\n",
    "\n",
    "# Create the plot\n",
    "plt.figure(figsize=(16, 8))\n",
    "sns.lineplot(x='Year', y='electricity price per kWh', hue='Entity', data=electricity_price_data_reset)\n",
    "\n",
    "# Add labels and title\n",
    "plt.title('Electricity Prices Over Time by Country')\n",
    "plt.xlabel('Year')\n",
    "plt.ylabel('Price per kWh (€)')\n",
    "plt.xticks(rotation=45)\n",
    "\n",
    "# Set the x-axis ticks to only show the years present in the dataset\n",
    "years = sorted(electricity_price_data_reset['Year'].unique())\n",
    "plt.xticks(ticks=years, labels=years)\n",
    "\n",
    "# Adjust legend\n",
    "plt.legend(title='Country', bbox_to_anchor=(1.05, 1), loc='upper left')\n",
    "\n",
    "# Show the plot\n",
    "plt.tight_layout()\n",
    "plt.show()"
   ],
   "outputs": [],
   "execution_count": null
  },
  {
   "metadata": {
    "id": "VsYAnjrfVGiS"
   },
   "cell_type": "markdown",
   "source": [
    "# Interesting statistics and relations\n",
    "## Relation between energy and electricity\n",
    "Merge the share percentages into a single frame for easier plotting and data analysis\n"
   ]
  },
  {
   "metadata": {},
   "cell_type": "code",
   "source": [
    "share_energy_electricity = pd.merge(\n",
    "    share_energy,\n",
    "    share_electricity,\n",
    "    left_index=True,\n",
    "    right_index=True,\n",
    "    how='inner'\n",
    ")"
   ],
   "outputs": [],
   "execution_count": null
  },
  {
   "metadata": {},
   "cell_type": "markdown",
   "source": "Additionally merge all our data into a single **mega-frame** for easier plotting/training"
  },
  {
   "metadata": {},
   "cell_type": "code",
   "source": [
    "def construct_mega_frame(dfs: list[pd.DataFrame]) -> pd.DataFrame:\n",
    "    mega_df = dfs[0]\n",
    "\n",
    "    for df in dfs[1:]:\n",
    "        mega_df = pd.merge(\n",
    "            mega_df,\n",
    "            df,\n",
    "            left_index=True,\n",
    "            right_index=True,\n",
    "            how='outer'\n",
    "        )\n",
    "\n",
    "    return mega_df"
   ],
   "outputs": [],
   "execution_count": null
  },
  {
   "metadata": {
    "id": "t677dRwJVGiS"
   },
   "cell_type": "code",
   "source": [
    "dfs = [share_energy_electricity, gdp_per_capita, energy_consumption_electricity_production, electricity_price_data]\n",
    "mega_df = construct_mega_frame(dfs)\n",
    "display(mega_df)"
   ],
   "outputs": [],
   "execution_count": null
  },
  {
   "metadata": {
    "id": "yxH6uuKaVGiS"
   },
   "cell_type": "markdown",
   "source": [
    "### Visualizations\n",
    "First we look at the energy-electricity gap (The difference between energy and electricity adoption). Let's plot the countries with the largest gap."
   ]
  },
  {
   "metadata": {
    "id": "uSommaIAVGiS"
   },
   "cell_type": "code",
   "source": [
    "# Filter for the year 2020\n",
    "data_2020 = share_energy_electricity.xs(key=2020, level='Year').copy()  # Use `.copy()` to avoid the warning\n",
    "\n",
    "# Calculate the gap between Renewable Electricity and Renewable Energy\n",
    "data_2020.loc[:, 'Gap'] = data_2020['Renewables (% electricity)'] - data_2020['Renewables (% sub energy)']\n",
    "\n",
    "# Sort by the largest gap\n",
    "largest_gaps = data_2020[['Gap']].sort_values(by='Gap', ascending=False).reset_index()\n",
    "\n",
    "# Bar plot for the largest gaps in 2020\n",
    "plt.figure(figsize=(12, 6))\n",
    "sns.barplot(data=largest_gaps.head(10), x='Gap', y='Entity', palette='coolwarm', hue='Entity', dodge=False, legend=False)\n",
    "plt.title('Top 10 Countries with Largest Gaps (Renewables: Electricity vs Energy) - 2020', fontsize=16)\n",
    "plt.xlabel('Gap (% Electricity - % Energy)', fontsize=12)\n",
    "plt.grid(True)\n",
    "plt.tight_layout()\n",
    "plt.show()"
   ],
   "outputs": [],
   "execution_count": null
  },
  {
   "metadata": {
    "id": "sOcDyTG5VGiS"
   },
   "cell_type": "markdown",
   "source": [
    "Let's compare Austria to the rest of europe."
   ]
  },
  {
   "metadata": {
    "id": "b2TW63KCVGiS"
   },
   "cell_type": "code",
   "source": [
    "# Filter for the last 10 years (2011–2020)\n",
    "energy_electricity_long = share_energy_electricity.copy()\n",
    "\n",
    "# Calculate the gap for each country and year\n",
    "energy_electricity_long.loc[:, 'Gap'] = energy_electricity_long['Renewables (% electricity)'] - energy_electricity_long['Renewables (% sub energy)']\n",
    "\n",
    "# Reset index for plotting\n",
    "gap_over_time = energy_electricity_long.reset_index()\n",
    "\n",
    "# Define standout countries\n",
    "standout_countries = ['Austria', 'Europe', 'World']\n",
    "\n",
    "# Create a custom color palette\n",
    "palette = {country: 'gray' for country in gap_over_time['Entity'].unique()}\n",
    "palette.update({\n",
    "    'Austria': 'red',\n",
    "    'Europe': 'blue',\n",
    "    'World': 'green'\n",
    "})\n",
    "\n",
    "plt.figure(figsize=(14, 8))\n",
    "\n",
    "# Plot all countries with lighter lines\n",
    "sns.lineplot(\n",
    "    data=gap_over_time[~gap_over_time['Entity'].isin(standout_countries)],\n",
    "    x='Year', y='Gap', hue='Entity', palette=palette, alpha=0.4, linewidth=1, legend=False\n",
    ")\n",
    "\n",
    "# Plot standout countries with distinctive styles\n",
    "sns.lineplot(\n",
    "    data=gap_over_time[gap_over_time['Entity'].isin(standout_countries)],\n",
    "    x='Year', y='Gap', hue='Entity', palette=palette, linewidth=2.5\n",
    ")\n",
    "\n",
    "# Add labels and title\n",
    "plt.title(f'Renewable Electricity vs Energy Gap ({time_window[0]}-{time_window[1]})', fontsize=16)\n",
    "plt.xlabel('Year', fontsize=12)\n",
    "plt.ylabel('Gap (% Electricity - % Energy)', fontsize=12)\n",
    "plt.legend(title='Country', fontsize=10, title_fontsize=12, loc='upper left', bbox_to_anchor=(1.05, 1))\n",
    "plt.grid(True)\n",
    "\n",
    "# Highlight standout countries with direct annotations\n",
    "for country in standout_countries:\n",
    "    country_data = gap_over_time[gap_over_time['Entity'] == country]\n",
    "    plt.text(\n",
    "        country_data['Year'].iloc[-1],\n",
    "        country_data['Gap'].iloc[-1],\n",
    "        country,\n",
    "        color=palette[country], fontsize=12, weight='bold'\n",
    "    )\n",
    "\n",
    "plt.tight_layout()\n",
    "plt.show()\n"
   ],
   "outputs": [],
   "execution_count": null
  },
  {
   "metadata": {
    "id": "y_uQvP1CVGiS"
   },
   "cell_type": "code",
   "source": [
    "# Define europe_world (if not already defined)\n",
    "europe_world = share_energy_electricity.loc[\n",
    "    share_energy_electricity.index.get_level_values('Entity').isin(['Europe', 'World'])\n",
    "].reset_index()\n",
    "\n",
    "europe_world.rename(columns={'Entity': 'Country'}, inplace=True)\n",
    "\n",
    "# Reshape the data to combine 'Renewables (% sub energy)' and 'Renewables (% electricity)' into one column\n",
    "europe_world_melted = europe_world.melt(\n",
    "    id_vars=['Year', 'Country'],\n",
    "    value_vars=['Renewables (% sub energy)', 'Renewables (% electricity)'],\n",
    "    var_name='Renewable Metric',\n",
    "    value_name='Percentage'\n",
    ")\n",
    "\n",
    "# Rename metrics for better readability\n",
    "europe_world_melted['Renewable Metric'] = europe_world_melted['Renewable Metric'].replace({\n",
    "    'Renewables (% sub energy)': '% Sub Energy',\n",
    "    'Renewables (% electricity)': '% Electricity'\n",
    "})\n",
    "\n",
    "# Create a line plot\n",
    "plt.figure(figsize=(14, 8))\n",
    "sns.lineplot(\n",
    "    data=europe_world_melted,\n",
    "    x='Year',\n",
    "    y='Percentage',\n",
    "    hue='Country',\n",
    "    style='Renewable Metric',  # Different styles for sub energy vs electricity\n",
    "    markers=True,\n",
    "    dashes=True,\n",
    "    palette='tab10'\n",
    ")\n",
    "\n",
    "# Add plot titles and labels\n",
    "plt.title('Renewable Energy and Electricity Trends (Europe & World)', fontsize=16)\n",
    "plt.ylabel('Percentage (%)', fontsize=12)\n",
    "plt.xlabel('Year', fontsize=12)\n",
    "\n",
    "# Customize the legend for clarity\n",
    "plt.legend(title='Legend', fontsize=10, title_fontsize=12, loc='upper left', bbox_to_anchor=(1, 1))\n",
    "\n",
    "# Add grid and show plot\n",
    "plt.grid(True)\n",
    "plt.tight_layout()\n",
    "plt.show()\n"
   ],
   "outputs": [],
   "execution_count": null
  },
  {
   "metadata": {
    "id": "5EXkgnBoVGiS"
   },
   "cell_type": "markdown",
   "source": [
    "## Dependency on weather data"
   ]
  },
  {
   "metadata": {
    "id": "qQAyGoSbVGiS"
   },
   "cell_type": "code",
   "source": [
    "import requests\n",
    "\n",
    "# List of European countries\n",
    "european_countries = [\n",
    "    'Austria', 'Belgium', 'Bulgaria', 'Croatia', 'Cyprus', 'Czechia', 'Denmark',\n",
    "    'Estonia', 'Finland', 'France', 'Germany', 'Greece', 'Hungary', 'Iceland',\n",
    "    'Ireland', 'Italy', 'Latvia', 'Lithuania', 'Luxembourg', 'Netherlands',\n",
    "    'Norway', 'Poland', 'Portugal', 'Romania', 'Slovakia', 'Slovenia', 'Spain',\n",
    "    'Sweden', 'Switzerland', 'United Kingdom'\n",
    "]\n",
    "\n",
    "# Function to fetch weather data\n",
    "def fetch_weather_data(lat, lon, start_year, end_year):\n",
    "    \"\"\"Fetch daily solar radiation and wind speed data from NASA POWER API.\"\"\"\n",
    "    base_url = \"https://power.larc.nasa.gov/api/temporal/daily/point\"\n",
    "    params = {\n",
    "        \"parameters\": \"ALLSKY_SFC_SW_DWN,WS10M\",\n",
    "        \"community\": \"AG\",\n",
    "        \"longitude\": lon,\n",
    "        \"latitude\": lat,\n",
    "        \"start\": f\"{start_year}0101\",\n",
    "        \"end\": f\"{end_year}1231\",\n",
    "        \"format\": \"JSON\",\n",
    "        \"header\": \"true\",\n",
    "        \"time-standard\": \"UTC\"\n",
    "    }\n",
    "\n",
    "    response = requests.get(base_url, params=params)\n",
    "    response.raise_for_status()\n",
    "    return response.json()\n",
    "\n",
    "# Dictionary of country coordinates (add exact latitude and longitude for each country)\n",
    "country_coordinates = {\n",
    "    'Austria': (47.5162, 14.5501),\n",
    "    'Belgium': (50.8503, 4.3517),\n",
    "    'Bulgaria': (42.7339, 25.4858),\n",
    "    'Croatia': (45.1, 15.2),\n",
    "    'Cyprus': (35.1264, 33.4299),\n",
    "    'Czechia': (49.8175, 15.473),\n",
    "    'Denmark': (56.2639, 9.5018),\n",
    "    'Estonia': (58.5953, 25.0136),\n",
    "    'Finland': (61.9241, 25.7482),\n",
    "    'France': (46.6034, 1.8883),\n",
    "    'Germany': (51.1657, 10.4515),\n",
    "    'Greece': (39.0742, 21.8243),\n",
    "    'Hungary': (47.1625, 19.5033),\n",
    "    'Iceland': (64.9631, -19.0208),\n",
    "    'Ireland': (53.4129, -8.2439),\n",
    "    'Italy': (41.8719, 12.5674),\n",
    "    'Latvia': (56.8796, 24.6032),\n",
    "    'Lithuania': (55.1694, 23.8813),\n",
    "    'Luxembourg': (49.8153, 6.1296),\n",
    "    'Malta': (35.9375, 14.3754),\n",
    "    'Netherlands': (52.1326, 5.2913),\n",
    "    'Norway': (60.4720, 8.4689),\n",
    "    'Poland': (51.9194, 19.1451),\n",
    "    'Portugal': (39.3999, -8.2245),\n",
    "    'Romania': (45.9432, 24.9668),\n",
    "    'Slovakia': (48.6690, 19.6990),\n",
    "    'Slovenia': (46.1512, 14.9955),\n",
    "    'Spain': (40.4637, -3.7492),\n",
    "    'Sweden': (60.1282, 18.6435),\n",
    "    'Switzerland': (46.8182, 8.2275),\n",
    "    'United Kingdom': (55.3781, -3.4360)\n",
    "}\n",
    "\n",
    "# Fetch weather data for each country\n",
    "time_window_weather = (2010, 2020)\n",
    "weather_data = {}\n",
    "\n",
    "file_path ='api_data.pkl'\n",
    "cached_api_data = {}\n",
    "if os.path.exists(file_path):\n",
    "    with open(file_path, 'rb') as file:  # Use \"rb\" mode to read in binary format\n",
    "        cached_api_data = pickle.load(file)\n",
    "\n",
    "for country, (lat, lon) in country_coordinates.items():\n",
    "    print(f\"Fetching weather data for {country}...\")\n",
    "    try:\n",
    "        key = (lat, lon)\n",
    "        if key not in cached_api_data:\n",
    "            cached_api_data[key] = fetch_weather_data(key[0], key[1], time_window_weather[0], time_window_weather[1])\n",
    "\n",
    "        data = cached_api_data[key]\n",
    "        daily_data = data['properties']['parameter']\n",
    "        df = pd.DataFrame({\n",
    "            'Date': pd.to_datetime(list(daily_data['ALLSKY_SFC_SW_DWN'].keys())),\n",
    "            'Solar Radiation': list(daily_data['ALLSKY_SFC_SW_DWN'].values()),\n",
    "            'Wind Speed': list(daily_data['WS10M'].values())\n",
    "        })\n",
    "        df['Year'] = df['Date'].dt.year\n",
    "        yearly_data = df.groupby('Year')[['Solar Radiation', 'Wind Speed']].mean().reset_index()\n",
    "        weather_data[country] = yearly_data\n",
    "    except Exception as e:\n",
    "        print(f\"Failed to fetch weather data for {country}: {e}\")\n",
    "\n",
    "# save cached weather data\n",
    "with open(file_path, 'wb') as file:\n",
    "    pickle.dump(cached_api_data, file)\n",
    "\n",
    "# Extract power data from `share_energy`\n",
    "power_data = pd.DataFrame()\n",
    "for country in european_countries:\n",
    "    if country in share_energy.index.get_level_values('Entity'):\n",
    "        country_power_data = share_energy.loc[country].reset_index()\n",
    "        country_power_data['Country'] = country\n",
    "        power_data = pd.concat([power_data, country_power_data])\n",
    "\n",
    "# Combine weather and power data\n",
    "combined_data = pd.DataFrame()\n",
    "for country, weather_df in weather_data.items():\n",
    "    power_df = power_data[power_data['Country'] == country]\n",
    "    combined = weather_df.merge(power_df, on='Year', how='inner')\n",
    "    combined['Country'] = country\n",
    "    combined_data = pd.concat([combined_data, combined])\n",
    "\n",
    "# First Plot: Solar Radiation and Wind Speed Trends\n",
    "plt.figure(figsize=(14, 8))\n",
    "for country, data in weather_data.items():\n",
    "    plt.plot(data['Year'], data['Solar Radiation'], label=f\"{country} - Solar Radiation\", linestyle='-', alpha=0.6)\n",
    "    plt.plot(data['Year'], data['Wind Speed'], label=f\"{country} - Wind Speed\", linestyle='--', alpha=0.6)\n",
    "\n",
    "plt.title('Solar Radiation and Wind Speed Trends (2010-2020)', fontsize=16)\n",
    "plt.xlabel('Year', fontsize=12)\n",
    "plt.ylabel('Average Value', fontsize=12)\n",
    "plt.legend(fontsize=8, loc='upper left', bbox_to_anchor=(1.05, 1))\n",
    "plt.grid(True)\n",
    "plt.tight_layout()\n",
    "plt.show()\n",
    "\n",
    "# Scatter Plot 1: Wind Speed vs Wind (% sub energy)\n",
    "plt.figure(figsize=(12, 6))\n",
    "for country in combined_data['Country'].unique():\n",
    "    country_data = combined_data[combined_data['Country'] == country]\n",
    "    plt.scatter(country_data['Wind Speed'], country_data['Wind (% sub energy)'], label=country, alpha=0.6)\n",
    "\n",
    "plt.title('Dependency Between Wind Speed and Wind (% sub energy)', fontsize=16)\n",
    "plt.xlabel('Wind Speed (m/s)', fontsize=12)\n",
    "plt.ylabel('Wind (% of Energy)', fontsize=12)\n",
    "plt.legend(fontsize=8, loc='upper left', bbox_to_anchor=(1.05, 1))\n",
    "plt.grid(True)\n",
    "plt.tight_layout()\n",
    "plt.show()\n",
    "\n",
    "# Scatter Plot 2: Solar Radiation vs Solar (% sub energy)\n",
    "plt.figure(figsize=(12, 6))\n",
    "for country in combined_data['Country'].unique():\n",
    "    country_data = combined_data[combined_data['Country'] == country]\n",
    "    plt.scatter(country_data['Solar Radiation'], country_data['Solar (% sub energy)'], label=country, alpha=0.6)\n",
    "\n",
    "plt.title('Dependency Between Solar Radiation and Solar (% sub energy)', fontsize=16)\n",
    "plt.xlabel('Solar Radiation (kWh/m²/day)', fontsize=12)\n",
    "plt.ylabel('Solar (% of Energy)', fontsize=12)\n",
    "plt.legend(fontsize=8, loc='upper left', bbox_to_anchor=(1.05, 1))\n",
    "plt.grid(True)\n",
    "plt.tight_layout()\n",
    "plt.show()"
   ],
   "outputs": [],
   "execution_count": null
  },
  {
   "metadata": {
    "id": "XOydJqULVGiT"
   },
   "cell_type": "markdown",
   "source": [
    "Calculate European averages for each year"
   ]
  },
  {
   "metadata": {
    "id": "QYgKv6TvVGiT"
   },
   "cell_type": "code",
   "source": [
    "european_averages = combined_data.groupby('Year').agg({\n",
    "    'Wind Speed': 'mean',\n",
    "    'Wind (% sub energy)': 'mean',\n",
    "    'Solar Radiation': 'mean',\n",
    "    'Solar (% sub energy)': 'mean'\n",
    "}).reset_index()"
   ],
   "outputs": [],
   "execution_count": null
  },
  {
   "metadata": {
    "id": "pvkbSeC3VGiT"
   },
   "cell_type": "code",
   "source": [
    "# Scatter plot for wind speed vs. wind contribution\n",
    "g = sns.relplot(\n",
    "    data=combined_data,\n",
    "    x='Wind Speed',\n",
    "    y='Wind (% sub energy)',\n",
    "    col='Year',\n",
    "    kind='scatter',\n",
    "    col_wrap=4,\n",
    "    height=4,\n",
    "    alpha=0.6,\n",
    "    hue='Country',\n",
    "    palette='tab20',\n",
    "    legend='brief'  # Automatic legend for countries\n",
    ")\n",
    "\n",
    "# Highlight Austria and add European averages with labels\n",
    "for ax, year in zip(g.axes.flat, combined_data['Year'].unique()):\n",
    "    # Highlight Austria\n",
    "    austria_data = combined_data[(combined_data['Country'] == 'Austria') & (combined_data['Year'] == year)]\n",
    "    if not austria_data.empty:\n",
    "        ax.scatter(\n",
    "            austria_data['Wind Speed'], austria_data['Wind (% sub energy)'],\n",
    "            color='red', s=150, edgecolor='black', zorder=5  # Highlight Austria\n",
    "        )\n",
    "        # Add label for Austria\n",
    "        ax.text(\n",
    "            austria_data['Wind Speed'].values[0] + 0.1,\n",
    "            austria_data['Wind (% sub energy)'].values[0],\n",
    "            'Austria', color='red', fontsize=8, weight='bold'\n",
    "        )\n",
    "    # Add European average\n",
    "    avg_data = european_averages[european_averages['Year'] == year]\n",
    "    if not avg_data.empty:\n",
    "        ax.scatter(\n",
    "            avg_data['Wind Speed'], avg_data['Wind (% sub energy)'],\n",
    "            color='black', s=150, marker='x', zorder=6  # Highlight European average\n",
    "        )\n",
    "        # Add label for European average\n",
    "        ax.text(\n",
    "            avg_data['Wind Speed'].values[0] + 0.1,\n",
    "            avg_data['Wind (% sub energy)'].values[0],\n",
    "            'Europe Avg', color='black', fontsize=8, weight='bold'\n",
    "        )\n",
    "\n",
    "g.fig.subplots_adjust(top=0.9)\n",
    "g.fig.suptitle('Dependency Between Wind Speed and Wind (% sub energy) by Year', fontsize=16)\n",
    "plt.show()\n",
    "\n",
    "# Scatter plot for solar radiation vs. solar contribution\n",
    "g = sns.relplot(\n",
    "    data=combined_data,\n",
    "    x='Solar Radiation',\n",
    "    y='Solar (% sub energy)',\n",
    "    col='Year',\n",
    "    kind='scatter',\n",
    "    col_wrap=4,\n",
    "    height=4,\n",
    "    alpha=0.6,\n",
    "    hue='Country',\n",
    "    palette='tab20',\n",
    "    legend='brief'  # Automatic legend for countries\n",
    ")\n",
    "\n",
    "# Highlight Austria and add European averages with labels\n",
    "for ax, year in zip(g.axes.flat, combined_data['Year'].unique()):\n",
    "    # Highlight Austria\n",
    "    austria_data = combined_data[(combined_data['Country'] == 'Austria') & (combined_data['Year'] == year)]\n",
    "    if not austria_data.empty:\n",
    "        ax.scatter(\n",
    "            austria_data['Solar Radiation'], austria_data['Solar (% sub energy)'],\n",
    "            color='red', s=150, edgecolor='black', zorder=5  # Highlight Austria\n",
    "        )\n",
    "        # Add label for Austria\n",
    "        ax.text(\n",
    "            austria_data['Solar Radiation'].values[0] + 0.1,\n",
    "            austria_data['Solar (% sub energy)'].values[0],\n",
    "            'Austria', color='red', fontsize=8, weight='bold'\n",
    "        )\n",
    "    # Add European average\n",
    "    avg_data = european_averages[european_averages['Year'] == year]\n",
    "    if not avg_data.empty:\n",
    "        ax.scatter(\n",
    "            avg_data['Solar Radiation'], avg_data['Solar (% sub energy)'],\n",
    "            color='black', s=150, marker='x', zorder=6  # Highlight European average\n",
    "        )\n",
    "        # Add label for European average\n",
    "        ax.text(\n",
    "            avg_data['Solar Radiation'].values[0] + 0.1,\n",
    "            avg_data['Solar (% sub energy)'].values[0],\n",
    "            'Europe Avg', color='black', fontsize=8, weight='bold'\n",
    "        )\n",
    "\n",
    "g.fig.subplots_adjust(top=0.9)\n",
    "g.fig.suptitle('Dependency Between Solar Radiation and Solar (% sub energy) by Year', fontsize=16)\n",
    "plt.show()"
   ],
   "outputs": [],
   "execution_count": null
  },
  {
   "metadata": {
    "id": "HrcWy7BoVGiT"
   },
   "cell_type": "markdown",
   "source": [
    "# Predictions for the future"
   ]
  },
  {
   "metadata": {
    "id": "96a4d0gJVGiT"
   },
   "cell_type": "code",
   "source": [
    "# TODO: Train a model and crate a graph for how the future could look like?\n",
    "\n",
    "data_filtered = share_energy.reset_index()\n",
    "\n",
    "X = data_filtered[['Year', 'Hydro (% sub energy)', 'Solar (% sub energy)', 'Wind (% sub energy)', 'Other Renewables (% sub energy)']]\n",
    "y = data_filtered['Renewables (% sub energy)']\n",
    "\n",
    "scaler = StandardScaler()\n",
    "X_scaled = scaler.fit_transform(X)\n",
    "\n",
    "X_train, X_test, y_train, y_test = train_test_split(X_scaled, y, test_size=0.2, random_state=42)\n",
    "\n",
    "rf_model = RandomForestRegressor(random_state=42)\n",
    "\n",
    "param_grid = {\n",
    "    'n_estimators': [100, 200, 300],\n",
    "    'max_depth': [None, 10, 20, 30],\n",
    "    'min_samples_split': [2, 5, 10],\n",
    "    'min_samples_leaf': [1, 2, 4],\n",
    "    'max_features': ['sqrt', 'log2']\n",
    "}\n",
    "\n",
    "grid_search = GridSearchCV(estimator=rf_model, param_grid=param_grid,\n",
    "                           scoring='neg_mean_squared_error', cv=5, n_jobs=-1, verbose=2)\n",
    "\n",
    "grid_search.fit(X_train, y_train)\n",
    "\n",
    "print(\"Best parameters found: \", grid_search.best_params_)\n",
    "print(\"Best cross-validation RMSE: \", (-grid_search.best_score_) ** 0.5)\n",
    "\n",
    "best_rf_model = grid_search.best_estimator_\n",
    "\n",
    "y_pred = best_rf_model.predict(X_test)\n",
    "\n",
    "test_rmse = mean_squared_error(y_test, y_pred)\n",
    "print(f\"Test Set RMSE with Best Model: {test_rmse}\")"
   ],
   "outputs": [],
   "execution_count": null
  },
  {
   "metadata": {
    "id": "LqTtgWyQVGiT"
   },
   "cell_type": "markdown",
   "source": [
    "## Predictions using random Random Forest"
   ]
  },
  {
   "metadata": {
    "id": "YspxNSvXVGiT"
   },
   "cell_type": "code",
   "source": [
    "import pandas as pd\n",
    "import numpy as np\n",
    "import matplotlib.pyplot as plt\n",
    "from sklearn.preprocessing import StandardScaler\n",
    "from sklearn.linear_model import LinearRegression\n",
    "\n",
    "df = data_filtered.sort_values(by=['Year'])\n",
    "\n",
    "X_columns = ['Year', 'Hydro (% sub energy)', 'Solar (% sub energy)', 'Wind (% sub energy)', 'Other Renewables (% sub energy)']\n",
    "scaler = StandardScaler()\n",
    "\n",
    "rfr_model = grid_search.best_estimator_\n",
    "\n",
    "\n",
    "plt.figure(figsize=(12, 8))\n",
    "\n",
    "countries = ['Austria', 'Belgium', 'Czechia', 'Europe', 'France', 'Germany', 'Spain', 'Norway', 'Romania', 'United Kingdom', 'World']\n",
    "colors = plt.cm.tab10(np.linspace(0, 1, len(countries)))\n",
    "\n",
    "for i, country in enumerate(countries):\n",
    "    country_df = df[df['Entity'] == country]\n",
    "    if country_df.empty:\n",
    "        print(f\"Skipping country {country} due to no data available.\")\n",
    "        continue\n",
    "\n",
    "    X = country_df[X_columns]\n",
    "    y = country_df['Renewables (% sub energy)']\n",
    "\n",
    "    X_scaled = scaler.fit_transform(X)\n",
    "\n",
    "    rfr_model.fit(X_scaled, y)\n",
    "\n",
    "    last_known_year = country_df['Year'].max()\n",
    "    future_years = np.arange(last_known_year + 1, last_known_year + 31)\n",
    "\n",
    "    future_data = []\n",
    "\n",
    "    for feature in X_columns[1:]:\n",
    "        lr = LinearRegression()\n",
    "        lr.fit(country_df[['Year']], country_df[feature])\n",
    "\n",
    "        future_years_df = pd.DataFrame(future_years, columns=['Year'])\n",
    "        future_feature_values = lr.predict(future_years_df)\n",
    "        future_data.append(future_feature_values.flatten())\n",
    "\n",
    "    future_data = np.column_stack([future_years] + future_data)\n",
    "\n",
    "    future_df = pd.DataFrame(future_data, columns=X_columns)\n",
    "    future_data_scaled = scaler.transform(future_df)\n",
    "    future_predictions = rfr_model.predict(future_data_scaled)\n",
    "\n",
    "    line = plt.plot(country_df['Year'], y, label=f'Actual {country}', linewidth=2, color = colors[i])\n",
    "    prediction = plt.plot(future_years, future_predictions, label=f'Predicted {country}', linestyle='--', color = colors[i])\n",
    "\n",
    "plt.xlabel('Year')\n",
    "plt.ylabel('Renewables (% sub energy)')\n",
    "plt.title('Actual vs Predicted Renewables for Each Country (Next 50 Years)')\n",
    "plt.legend()\n",
    "plt.grid(True)\n",
    "plt.show()"
   ],
   "outputs": [],
   "execution_count": null
  },
  {
   "metadata": {
    "id": "N77IAj_TVGiT"
   },
   "cell_type": "markdown",
   "source": [
    "Here we predicted the development of renewable energy adoption until 2050. To do this, we used a simple model in order to interpolate the values of the different features such as previous Hydro, Wind or Solar adoption."
   ]
  }
 ],
 "metadata": {
  "kernelspec": {
   "display_name": "venv",
   "language": "python",
   "name": "python3"
  },
  "language_info": {
   "codemirror_mode": {
    "name": "ipython",
    "version": 3
   },
   "file_extension": ".py",
   "mimetype": "text/x-python",
   "name": "python",
   "nbconvert_exporter": "python",
   "pygments_lexer": "ipython3",
   "version": "3.11.2"
  },
  "colab": {
   "provenance": []
  }
 },
 "nbformat": 4,
 "nbformat_minor": 0
}
